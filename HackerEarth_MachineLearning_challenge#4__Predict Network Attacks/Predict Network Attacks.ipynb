{
 "cells": [
  {
   "cell_type": "code",
   "execution_count": 1,
   "metadata": {
    "collapsed": false
   },
   "outputs": [
    {
     "name": "stderr",
     "output_type": "stream",
     "text": [
      "Using TensorFlow backend.\n"
     ]
    }
   ],
   "source": [
    "from keras.layers import Dense\n",
    "from keras.models import Sequential"
   ]
  },
  {
   "cell_type": "code",
   "execution_count": 2,
   "metadata": {
    "collapsed": true
   },
   "outputs": [],
   "source": [
    "import pandas as pd\n",
    "import numpy as np"
   ]
  },
  {
   "cell_type": "code",
   "execution_count": 3,
   "metadata": {
    "collapsed": true
   },
   "outputs": [],
   "source": [
    "train = pd.read_csv('train_data.csv')\n",
    "test = pd.read_csv('test_data.csv')"
   ]
  },
  {
   "cell_type": "code",
   "execution_count": 4,
   "metadata": {
    "collapsed": false
   },
   "outputs": [
    {
     "data": {
      "text/plain": [
       "(169307, 43)"
      ]
     },
     "execution_count": 4,
     "metadata": {},
     "output_type": "execute_result"
    }
   ],
   "source": [
    "train.shape"
   ]
  },
  {
   "cell_type": "code",
   "execution_count": 5,
   "metadata": {
    "collapsed": false
   },
   "outputs": [
    {
     "data": {
      "text/plain": [
       "(91166, 42)"
      ]
     },
     "execution_count": 5,
     "metadata": {},
     "output_type": "execute_result"
    }
   ],
   "source": [
    "test.shape"
   ]
  },
  {
   "cell_type": "code",
   "execution_count": 6,
   "metadata": {
    "collapsed": false
   },
   "outputs": [
    {
     "data": {
      "text/plain": [
       "Index(['connection_id', 'cont_1', 'cont_2', 'cont_3', 'cont_4', 'cont_5',\n",
       "       'cont_6', 'cont_7', 'cont_8', 'cont_9', 'cont_10', 'cont_11', 'cont_12',\n",
       "       'cont_13', 'cont_14', 'cont_15', 'cont_16', 'cont_17', 'cont_18',\n",
       "       'cat_1', 'cat_2', 'cat_3', 'cat_4', 'cat_5', 'cat_6', 'cat_7', 'cat_8',\n",
       "       'cat_9', 'cat_10', 'cat_11', 'cat_12', 'cat_13', 'cat_14', 'cat_15',\n",
       "       'cat_16', 'cat_17', 'cat_18', 'cat_19', 'cat_20', 'cat_21', 'cat_22',\n",
       "       'cat_23', 'target'],\n",
       "      dtype='object')"
      ]
     },
     "execution_count": 6,
     "metadata": {},
     "output_type": "execute_result"
    }
   ],
   "source": [
    "train.columns"
   ]
  },
  {
   "cell_type": "code",
   "execution_count": 7,
   "metadata": {
    "collapsed": false
   },
   "outputs": [
    {
     "data": {
      "text/plain": [
       "Index(['connection_id', 'cont_1', 'cont_2', 'cont_3', 'cont_4', 'cont_5',\n",
       "       'cont_6', 'cont_7', 'cont_8', 'cont_9', 'cont_10', 'cont_11', 'cont_12',\n",
       "       'cont_13', 'cont_14', 'cont_15', 'cont_16', 'cont_17', 'cont_18',\n",
       "       'cat_1', 'cat_2', 'cat_3', 'cat_4', 'cat_5', 'cat_6', 'cat_7', 'cat_8',\n",
       "       'cat_9', 'cat_10', 'cat_11', 'cat_12', 'cat_13', 'cat_14', 'cat_15',\n",
       "       'cat_16', 'cat_17', 'cat_18', 'cat_19', 'cat_20', 'cat_21', 'cat_22',\n",
       "       'cat_23'],\n",
       "      dtype='object')"
      ]
     },
     "execution_count": 7,
     "metadata": {},
     "output_type": "execute_result"
    }
   ],
   "source": [
    "test.columns"
   ]
  },
  {
   "cell_type": "code",
   "execution_count": 8,
   "metadata": {
    "collapsed": false
   },
   "outputs": [
    {
     "data": {
      "text/plain": [
       "0    98868\n",
       "2    36854\n",
       "1    33585\n",
       "Name: target, dtype: int64"
      ]
     },
     "execution_count": 8,
     "metadata": {},
     "output_type": "execute_result"
    }
   ],
   "source": [
    "train['target'].value_counts()"
   ]
  },
  {
   "cell_type": "code",
   "execution_count": 9,
   "metadata": {
    "collapsed": false
   },
   "outputs": [
    {
     "data": {
      "text/plain": [
       "connection_id    0\n",
       "cont_1           0\n",
       "cont_2           0\n",
       "cont_3           0\n",
       "cont_4           0\n",
       "cont_5           0\n",
       "cont_6           0\n",
       "cont_7           0\n",
       "cont_8           0\n",
       "cont_9           0\n",
       "cont_10          0\n",
       "cont_11          0\n",
       "cont_12          0\n",
       "cont_13          0\n",
       "cont_14          0\n",
       "cont_15          0\n",
       "cont_16          0\n",
       "cont_17          0\n",
       "cont_18          0\n",
       "cat_1            0\n",
       "cat_2            0\n",
       "cat_3            0\n",
       "cat_4            0\n",
       "cat_5            0\n",
       "cat_6            0\n",
       "cat_7            0\n",
       "cat_8            0\n",
       "cat_9            0\n",
       "cat_10           0\n",
       "cat_11           0\n",
       "cat_12           0\n",
       "cat_13           0\n",
       "cat_14           0\n",
       "cat_15           0\n",
       "cat_16           0\n",
       "cat_17           0\n",
       "cat_18           0\n",
       "cat_19           0\n",
       "cat_20           0\n",
       "cat_21           0\n",
       "cat_22           0\n",
       "cat_23           0\n",
       "target           0\n",
       "dtype: int64"
      ]
     },
     "execution_count": 9,
     "metadata": {},
     "output_type": "execute_result"
    }
   ],
   "source": [
    "train.isnull().sum(axis = 0)\n",
    "# no missing values"
   ]
  },
  {
   "cell_type": "code",
   "execution_count": 10,
   "metadata": {
    "collapsed": true
   },
   "outputs": [],
   "source": [
    "feature_names = [x for x in train.columns if x not in ['connection_id', 'target']]"
   ]
  },
  {
   "cell_type": "code",
   "execution_count": 11,
   "metadata": {
    "collapsed": false
   },
   "outputs": [
    {
     "data": {
      "text/html": [
       "<div>\n",
       "<style scoped>\n",
       "    .dataframe tbody tr th:only-of-type {\n",
       "        vertical-align: middle;\n",
       "    }\n",
       "\n",
       "    .dataframe tbody tr th {\n",
       "        vertical-align: top;\n",
       "    }\n",
       "\n",
       "    .dataframe thead th {\n",
       "        text-align: right;\n",
       "    }\n",
       "</style>\n",
       "<table border=\"1\" class=\"dataframe\">\n",
       "  <thead>\n",
       "    <tr style=\"text-align: right;\">\n",
       "      <th></th>\n",
       "      <th>cont_1</th>\n",
       "      <th>cont_2</th>\n",
       "      <th>cont_3</th>\n",
       "      <th>cont_4</th>\n",
       "      <th>cont_5</th>\n",
       "      <th>cont_6</th>\n",
       "      <th>cont_7</th>\n",
       "      <th>cont_8</th>\n",
       "      <th>cont_9</th>\n",
       "      <th>cont_10</th>\n",
       "      <th>...</th>\n",
       "      <th>cat_14</th>\n",
       "      <th>cat_15</th>\n",
       "      <th>cat_16</th>\n",
       "      <th>cat_17</th>\n",
       "      <th>cat_18</th>\n",
       "      <th>cat_19</th>\n",
       "      <th>cat_20</th>\n",
       "      <th>cat_21</th>\n",
       "      <th>cat_22</th>\n",
       "      <th>cat_23</th>\n",
       "    </tr>\n",
       "  </thead>\n",
       "  <tbody>\n",
       "    <tr>\n",
       "      <th>0</th>\n",
       "      <td>0</td>\n",
       "      <td>1032</td>\n",
       "      <td>0</td>\n",
       "      <td>0.0</td>\n",
       "      <td>0.0</td>\n",
       "      <td>0.0</td>\n",
       "      <td>0.0</td>\n",
       "      <td>1.0</td>\n",
       "      <td>0.0</td>\n",
       "      <td>0.0</td>\n",
       "      <td>...</td>\n",
       "      <td>0</td>\n",
       "      <td>0</td>\n",
       "      <td>0</td>\n",
       "      <td>0</td>\n",
       "      <td>0</td>\n",
       "      <td>0</td>\n",
       "      <td>511</td>\n",
       "      <td>511</td>\n",
       "      <td>255</td>\n",
       "      <td>255</td>\n",
       "    </tr>\n",
       "    <tr>\n",
       "      <th>1</th>\n",
       "      <td>0</td>\n",
       "      <td>520</td>\n",
       "      <td>0</td>\n",
       "      <td>0.0</td>\n",
       "      <td>0.0</td>\n",
       "      <td>0.0</td>\n",
       "      <td>0.0</td>\n",
       "      <td>1.0</td>\n",
       "      <td>0.0</td>\n",
       "      <td>0.0</td>\n",
       "      <td>...</td>\n",
       "      <td>0</td>\n",
       "      <td>0</td>\n",
       "      <td>0</td>\n",
       "      <td>0</td>\n",
       "      <td>0</td>\n",
       "      <td>0</td>\n",
       "      <td>511</td>\n",
       "      <td>511</td>\n",
       "      <td>255</td>\n",
       "      <td>255</td>\n",
       "    </tr>\n",
       "    <tr>\n",
       "      <th>2</th>\n",
       "      <td>0</td>\n",
       "      <td>1032</td>\n",
       "      <td>0</td>\n",
       "      <td>0.0</td>\n",
       "      <td>0.0</td>\n",
       "      <td>0.0</td>\n",
       "      <td>0.0</td>\n",
       "      <td>1.0</td>\n",
       "      <td>0.0</td>\n",
       "      <td>0.0</td>\n",
       "      <td>...</td>\n",
       "      <td>0</td>\n",
       "      <td>0</td>\n",
       "      <td>0</td>\n",
       "      <td>0</td>\n",
       "      <td>0</td>\n",
       "      <td>0</td>\n",
       "      <td>511</td>\n",
       "      <td>511</td>\n",
       "      <td>255</td>\n",
       "      <td>255</td>\n",
       "    </tr>\n",
       "    <tr>\n",
       "      <th>3</th>\n",
       "      <td>0</td>\n",
       "      <td>1032</td>\n",
       "      <td>0</td>\n",
       "      <td>0.0</td>\n",
       "      <td>0.0</td>\n",
       "      <td>0.0</td>\n",
       "      <td>0.0</td>\n",
       "      <td>1.0</td>\n",
       "      <td>0.0</td>\n",
       "      <td>0.0</td>\n",
       "      <td>...</td>\n",
       "      <td>0</td>\n",
       "      <td>0</td>\n",
       "      <td>0</td>\n",
       "      <td>0</td>\n",
       "      <td>0</td>\n",
       "      <td>0</td>\n",
       "      <td>511</td>\n",
       "      <td>511</td>\n",
       "      <td>255</td>\n",
       "      <td>255</td>\n",
       "    </tr>\n",
       "    <tr>\n",
       "      <th>4</th>\n",
       "      <td>0</td>\n",
       "      <td>1032</td>\n",
       "      <td>0</td>\n",
       "      <td>0.0</td>\n",
       "      <td>0.0</td>\n",
       "      <td>0.0</td>\n",
       "      <td>0.0</td>\n",
       "      <td>1.0</td>\n",
       "      <td>0.0</td>\n",
       "      <td>0.0</td>\n",
       "      <td>...</td>\n",
       "      <td>0</td>\n",
       "      <td>0</td>\n",
       "      <td>0</td>\n",
       "      <td>0</td>\n",
       "      <td>0</td>\n",
       "      <td>0</td>\n",
       "      <td>511</td>\n",
       "      <td>511</td>\n",
       "      <td>255</td>\n",
       "      <td>255</td>\n",
       "    </tr>\n",
       "  </tbody>\n",
       "</table>\n",
       "<p>5 rows × 41 columns</p>\n",
       "</div>"
      ],
      "text/plain": [
       "   cont_1  cont_2  cont_3  cont_4  cont_5  cont_6  cont_7  cont_8  cont_9  \\\n",
       "0       0    1032       0     0.0     0.0     0.0     0.0     1.0     0.0   \n",
       "1       0     520       0     0.0     0.0     0.0     0.0     1.0     0.0   \n",
       "2       0    1032       0     0.0     0.0     0.0     0.0     1.0     0.0   \n",
       "3       0    1032       0     0.0     0.0     0.0     0.0     1.0     0.0   \n",
       "4       0    1032       0     0.0     0.0     0.0     0.0     1.0     0.0   \n",
       "\n",
       "   cont_10   ...    cat_14  cat_15  cat_16  cat_17  cat_18  cat_19  cat_20  \\\n",
       "0      0.0   ...         0       0       0       0       0       0     511   \n",
       "1      0.0   ...         0       0       0       0       0       0     511   \n",
       "2      0.0   ...         0       0       0       0       0       0     511   \n",
       "3      0.0   ...         0       0       0       0       0       0     511   \n",
       "4      0.0   ...         0       0       0       0       0       0     511   \n",
       "\n",
       "   cat_21  cat_22  cat_23  \n",
       "0     511     255     255  \n",
       "1     511     255     255  \n",
       "2     511     255     255  \n",
       "3     511     255     255  \n",
       "4     511     255     255  \n",
       "\n",
       "[5 rows x 41 columns]"
      ]
     },
     "execution_count": 11,
     "metadata": {},
     "output_type": "execute_result"
    }
   ],
   "source": [
    "train[feature_names].head()"
   ]
  },
  {
   "cell_type": "code",
   "execution_count": 12,
   "metadata": {
    "collapsed": true
   },
   "outputs": [],
   "source": [
    "X_train = (train[feature_names].values).astype('float64')\n",
    "X_test = (test[feature_names].values).astype('float64')"
   ]
  },
  {
   "cell_type": "code",
   "execution_count": 13,
   "metadata": {
    "collapsed": true
   },
   "outputs": [],
   "source": [
    "# Standardization\n",
    "mean_train = np.mean(X_train)\n",
    "std_train = np.std(X_train)\n",
    "X_train = (X_train-mean_train)/std_train\n",
    "mean_test = np.mean(X_test)\n",
    "std_test = np.std(X_test)\n",
    "X_test = (X_test-mean_test)/std_test"
   ]
  },
  {
   "cell_type": "code",
   "execution_count": 14,
   "metadata": {
    "collapsed": true
   },
   "outputs": [],
   "source": [
    "y_train = train['target'].astype('int32')\n",
    "from keras.utils import np_utils"
   ]
  },
  {
   "cell_type": "code",
   "execution_count": 15,
   "metadata": {
    "collapsed": true
   },
   "outputs": [],
   "source": [
    "y_train = np_utils.to_categorical(y_train)"
   ]
  },
  {
   "cell_type": "code",
   "execution_count": 16,
   "metadata": {
    "collapsed": false
   },
   "outputs": [
    {
     "data": {
      "text/plain": [
       "(169307, 3)"
      ]
     },
     "execution_count": 16,
     "metadata": {},
     "output_type": "execute_result"
    }
   ],
   "source": [
    "y_train.shape"
   ]
  },
  {
   "cell_type": "code",
   "execution_count": 17,
   "metadata": {
    "collapsed": true
   },
   "outputs": [],
   "source": [
    "# building model\n",
    "model = Sequential()\n",
    "model.add(Dense(150, activation = 'relu', input_dim = X_train.shape[1]))\n",
    "model.add(Dense(150, activation = 'relu'))\n",
    "model.add(Dense(y_train.shape[1], activation = 'softmax'))"
   ]
  },
  {
   "cell_type": "code",
   "execution_count": 18,
   "metadata": {
    "collapsed": true
   },
   "outputs": [],
   "source": [
    "# model.compile(optimizer = 'adam', loss = 'categorical_crossentropy', metrics = ['accuracy'])\n",
    "from keras.optimizers import SGD\n",
    "model.compile(optimizer = SGD(lr = 0.01), loss = 'categorical_crossentropy', metrics = ['accuracy'])"
   ]
  },
  {
   "cell_type": "code",
   "execution_count": 19,
   "metadata": {
    "collapsed": false
   },
   "outputs": [
    {
     "name": "stdout",
     "output_type": "stream",
     "text": [
      "Train on 118514 samples, validate on 50793 samples\n",
      "Epoch 1/30\n",
      "118514/118514 [==============================] - 8s 69us/step - loss: 0.8367 - acc: 0.6397 - val_loss: 0.7295 - val_acc: 0.6790\n",
      "Epoch 2/30\n",
      "118514/118514 [==============================] - 8s 66us/step - loss: 0.6610 - acc: 0.7198 - val_loss: 0.6138 - val_acc: 0.7558\n",
      "Epoch 3/30\n",
      "118514/118514 [==============================] - 9s 72us/step - loss: 0.5844 - acc: 0.7531 - val_loss: 0.5644 - val_acc: 0.7669\n",
      "Epoch 4/30\n",
      "118514/118514 [==============================] - 8s 71us/step - loss: 0.5541 - acc: 0.7633 - val_loss: 0.5540 - val_acc: 0.7693\n",
      "Epoch 5/30\n",
      "118514/118514 [==============================] - 8s 70us/step - loss: 0.5430 - acc: 0.7671 - val_loss: 0.5344 - val_acc: 0.7703\n",
      "Epoch 6/30\n",
      "118514/118514 [==============================] - 8s 71us/step - loss: 0.5312 - acc: 0.7683 - val_loss: 0.5282 - val_acc: 0.7706\n",
      "Epoch 7/30\n",
      "118514/118514 [==============================] - 9s 78us/step - loss: 0.5263 - acc: 0.7687 - val_loss: 0.5253 - val_acc: 0.7689\n",
      "Epoch 8/30\n",
      "118514/118514 [==============================] - 8s 71us/step - loss: 0.5249 - acc: 0.7688 - val_loss: 0.5274 - val_acc: 0.7706\n",
      "Epoch 9/30\n",
      "118514/118514 [==============================] - 9s 79us/step - loss: 0.5246 - acc: 0.7692 - val_loss: 0.5237 - val_acc: 0.7717\n",
      "Epoch 10/30\n",
      "118514/118514 [==============================] - 9s 79us/step - loss: 0.5224 - acc: 0.7695 - val_loss: 0.5276 - val_acc: 0.7667\n",
      "Epoch 11/30\n",
      "118514/118514 [==============================] - 9s 80us/step - loss: 0.5209 - acc: 0.7697 - val_loss: 0.5222 - val_acc: 0.7719\n",
      "Epoch 12/30\n",
      "118514/118514 [==============================] - 10s 82us/step - loss: 0.5199 - acc: 0.7697 - val_loss: 0.5192 - val_acc: 0.7712\n",
      "Epoch 13/30\n",
      "118514/118514 [==============================] - 9s 78us/step - loss: 0.5190 - acc: 0.7696 - val_loss: 0.5184 - val_acc: 0.7711\n",
      "Epoch 14/30\n",
      "118514/118514 [==============================] - 9s 77us/step - loss: 0.5184 - acc: 0.7699 - val_loss: 0.5191 - val_acc: 0.7703\n",
      "Epoch 15/30\n",
      "118514/118514 [==============================] - 9s 77us/step - loss: 0.5181 - acc: 0.7697 - val_loss: 0.5196 - val_acc: 0.7700\n",
      "Epoch 16/30\n",
      "118514/118514 [==============================] - 10s 82us/step - loss: 0.5180 - acc: 0.7698 - val_loss: 0.5172 - val_acc: 0.7717\n",
      "Epoch 17/30\n",
      "118514/118514 [==============================] - 10s 87us/step - loss: 0.5176 - acc: 0.7699 - val_loss: 0.5340 - val_acc: 0.7729\n",
      "Epoch 18/30\n",
      "118514/118514 [==============================] - 9s 79us/step - loss: 0.5217 - acc: 0.7698 - val_loss: 0.5235 - val_acc: 0.7713\n",
      "Epoch 19/30\n",
      "118514/118514 [==============================] - 9s 79us/step - loss: 0.5173 - acc: 0.7699 - val_loss: 0.5200 - val_acc: 0.7729\n",
      "Epoch 20/30\n",
      "118514/118514 [==============================] - 10s 82us/step - loss: 0.5156 - acc: 0.7702 - val_loss: 0.5165 - val_acc: 0.7704\n",
      "Epoch 21/30\n",
      "118514/118514 [==============================] - 10s 88us/step - loss: 0.5167 - acc: 0.7702 - val_loss: 0.5153 - val_acc: 0.7718\n",
      "Epoch 22/30\n",
      "118514/118514 [==============================] - 8s 69us/step - loss: 0.5163 - acc: 0.7703 - val_loss: 0.5167 - val_acc: 0.7704\n",
      "Epoch 23/30\n",
      "118514/118514 [==============================] - 9s 76us/step - loss: 0.5165 - acc: 0.7704 - val_loss: 0.5160 - val_acc: 0.7717\n",
      "Epoch 24/30\n",
      "118514/118514 [==============================] - 10s 84us/step - loss: 0.5155 - acc: 0.7706 - val_loss: 0.5183 - val_acc: 0.7735\n",
      "Epoch 25/30\n",
      "118514/118514 [==============================] - 8s 66us/step - loss: 0.5147 - acc: 0.7704 - val_loss: 0.5167 - val_acc: 0.7726\n",
      "Epoch 26/30\n",
      "118514/118514 [==============================] - 8s 65us/step - loss: 0.5162 - acc: 0.7703 - val_loss: 0.5151 - val_acc: 0.7719\n",
      "Epoch 27/30\n",
      "118514/118514 [==============================] - 8s 68us/step - loss: 0.5181 - acc: 0.7700 - val_loss: 0.5307 - val_acc: 0.7645\n",
      "Epoch 28/30\n",
      "118514/118514 [==============================] - 8s 66us/step - loss: 0.5158 - acc: 0.7705 - val_loss: 0.5255 - val_acc: 0.7670\n",
      "Epoch 29/30\n",
      "118514/118514 [==============================] - 8s 65us/step - loss: 0.5153 - acc: 0.7704 - val_loss: 0.5160 - val_acc: 0.7726\n",
      "Epoch 30/30\n",
      "118514/118514 [==============================] - 8s 65us/step - loss: 0.5157 - acc: 0.7700 - val_loss: 0.5169 - val_acc: 0.7701\n"
     ]
    },
    {
     "data": {
      "text/plain": [
       "<keras.callbacks.History at 0x7fdf3ba42668>"
      ]
     },
     "execution_count": 19,
     "metadata": {},
     "output_type": "execute_result"
    }
   ],
   "source": [
    "model.fit(X_train, y_train, epochs=30, validation_split = 0.3)"
   ]
  },
  {
   "cell_type": "code",
   "execution_count": 20,
   "metadata": {
    "collapsed": false
   },
   "outputs": [
    {
     "name": "stdout",
     "output_type": "stream",
     "text": [
      "91166/91166 [==============================] - 2s 21us/step\n"
     ]
    }
   ],
   "source": [
    "preds = model.predict_classes(X_test)"
   ]
  },
  {
   "cell_type": "code",
   "execution_count": 21,
   "metadata": {
    "collapsed": true
   },
   "outputs": [],
   "source": [
    "output = pd.read_csv('sample_submission.csv')\n",
    "output['target'] = preds\n",
    "output['target'] = output['target'].astype(int)\n",
    "output.to_csv('Predict_network_attacks.csv', index = False)"
   ]
  },
  {
   "cell_type": "code",
   "execution_count": null,
   "metadata": {
    "collapsed": true
   },
   "outputs": [],
   "source": []
  }
 ],
 "metadata": {
  "kernelspec": {
   "display_name": "Python 3",
   "language": "python",
   "name": "python3"
  },
  "language_info": {
   "codemirror_mode": {
    "name": "ipython",
    "version": 3
   },
   "file_extension": ".py",
   "mimetype": "text/x-python",
   "name": "python",
   "nbconvert_exporter": "python",
   "pygments_lexer": "ipython3",
   "version": "3.6.3"
  }
 },
 "nbformat": 4,
 "nbformat_minor": 2
}
