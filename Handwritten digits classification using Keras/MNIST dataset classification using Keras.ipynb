{
 "cells": [
  {
   "cell_type": "code",
   "execution_count": 1,
   "metadata": {
    "collapsed": false
   },
   "outputs": [
    {
     "name": "stderr",
     "output_type": "stream",
     "text": [
      "Using TensorFlow backend.\n"
     ]
    }
   ],
   "source": [
    "from keras.layers import Dense\n",
    "from keras.models import Sequential"
   ]
  },
  {
   "cell_type": "code",
   "execution_count": 2,
   "metadata": {
    "collapsed": true
   },
   "outputs": [],
   "source": [
    "import pandas as pd\n",
    "import numpy as np"
   ]
  },
  {
   "cell_type": "code",
   "execution_count": 3,
   "metadata": {
    "collapsed": true
   },
   "outputs": [],
   "source": [
    "train = pd.read_csv('train.csv')\n",
    "test = pd.read_csv('test.csv')"
   ]
  },
  {
   "cell_type": "code",
   "execution_count": 4,
   "metadata": {
    "collapsed": false
   },
   "outputs": [
    {
     "data": {
      "text/plain": [
       "(42000, 785)"
      ]
     },
     "execution_count": 4,
     "metadata": {},
     "output_type": "execute_result"
    }
   ],
   "source": [
    "train.shape"
   ]
  },
  {
   "cell_type": "code",
   "execution_count": 5,
   "metadata": {
    "collapsed": false
   },
   "outputs": [
    {
     "data": {
      "text/plain": [
       "(28000, 784)"
      ]
     },
     "execution_count": 5,
     "metadata": {},
     "output_type": "execute_result"
    }
   ],
   "source": [
    "test.shape"
   ]
  },
  {
   "cell_type": "code",
   "execution_count": 6,
   "metadata": {
    "collapsed": false
   },
   "outputs": [],
   "source": [
    "n_cols = train.shape[1]"
   ]
  },
  {
   "cell_type": "code",
   "execution_count": 7,
   "metadata": {
    "collapsed": false
   },
   "outputs": [],
   "source": [
    "labels = (train.iloc[:,0].values).astype('int32')"
   ]
  },
  {
   "cell_type": "code",
   "execution_count": 8,
   "metadata": {
    "collapsed": false
   },
   "outputs": [
    {
     "data": {
      "text/plain": [
       "{0, 1, 2, 3, 4, 5, 6, 7, 8, 9}"
      ]
     },
     "execution_count": 8,
     "metadata": {},
     "output_type": "execute_result"
    }
   ],
   "source": [
    "set(labels)"
   ]
  },
  {
   "cell_type": "code",
   "execution_count": 9,
   "metadata": {
    "collapsed": true
   },
   "outputs": [],
   "source": [
    "X_train = (train.iloc[:, 1:].values).astype(float)\n",
    "X_test = (test.values).astype(float)"
   ]
  },
  {
   "cell_type": "code",
   "execution_count": 10,
   "metadata": {
    "collapsed": true
   },
   "outputs": [],
   "source": [
    "# Standardization\n",
    "mean_train = np.mean(X_train)\n",
    "std_train = np.std(X_train)\n",
    "X_train = (X_train-mean_train)/std_train\n",
    "mean_test = np.mean(X_test)\n",
    "std_test = np.std(X_test)\n",
    "X_test = (X_test-mean_test)/std_test"
   ]
  },
  {
   "cell_type": "code",
   "execution_count": 11,
   "metadata": {
    "collapsed": false
   },
   "outputs": [],
   "source": [
    "from keras.utils import np_utils"
   ]
  },
  {
   "cell_type": "code",
   "execution_count": 12,
   "metadata": {
    "collapsed": true
   },
   "outputs": [],
   "source": [
    "y_train = np_utils.to_categorical(labels)"
   ]
  },
  {
   "cell_type": "code",
   "execution_count": 13,
   "metadata": {
    "collapsed": false
   },
   "outputs": [
    {
     "data": {
      "text/plain": [
       "(42000, 10)"
      ]
     },
     "execution_count": 13,
     "metadata": {},
     "output_type": "execute_result"
    }
   ],
   "source": [
    "y_train.shape"
   ]
  },
  {
   "cell_type": "code",
   "execution_count": 14,
   "metadata": {
    "collapsed": false
   },
   "outputs": [
    {
     "data": {
      "text/plain": [
       "784"
      ]
     },
     "execution_count": 14,
     "metadata": {},
     "output_type": "execute_result"
    }
   ],
   "source": [
    "X_train.shape[1]"
   ]
  },
  {
   "cell_type": "code",
   "execution_count": 15,
   "metadata": {
    "collapsed": false
   },
   "outputs": [],
   "source": [
    "# building model\n",
    "model = Sequential()\n",
    "model.add(Dense(150, activation = 'relu', input_dim = X_train.shape[1]))\n",
    "model.add(Dense(100, activation = 'relu'))\n",
    "model.add(Dense(y_train.shape[1], activation = 'softmax'))"
   ]
  },
  {
   "cell_type": "code",
   "execution_count": 16,
   "metadata": {
    "collapsed": true
   },
   "outputs": [],
   "source": [
    "# model.compile(optimizer = 'adam', loss = 'categorical_crossentropy', metrics = ['accuracy'])\n",
    "from keras.optimizers import SGD\n",
    "model.compile(optimizer = SGD(lr = 0.03), loss = 'categorical_crossentropy', metrics = ['accuracy'])"
   ]
  },
  {
   "cell_type": "code",
   "execution_count": 17,
   "metadata": {
    "collapsed": false
   },
   "outputs": [
    {
     "name": "stdout",
     "output_type": "stream",
     "text": [
      "Training the model....\n"
     ]
    }
   ],
   "source": [
    "print('Training the model....')\n",
    "from keras.callbacks import EarlyStopping\n",
    "early_stopping_monitor = EarlyStopping(patience = 2)"
   ]
  },
  {
   "cell_type": "code",
   "execution_count": 18,
   "metadata": {
    "collapsed": false
   },
   "outputs": [
    {
     "name": "stdout",
     "output_type": "stream",
     "text": [
      "Train on 29399 samples, validate on 12601 samples\n",
      "Epoch 1/20\n",
      "29399/29399 [==============================] - 4s 148us/step - loss: 0.3288 - acc: 0.9000 - val_loss: 0.1997 - val_acc: 0.9414\n",
      "Epoch 2/20\n",
      "29399/29399 [==============================] - 4s 146us/step - loss: 0.1512 - acc: 0.9548 - val_loss: 0.1505 - val_acc: 0.9547\n",
      "Epoch 3/20\n",
      "29399/29399 [==============================] - 4s 141us/step - loss: 0.1052 - acc: 0.9691 - val_loss: 0.1297 - val_acc: 0.9597\n",
      "Epoch 4/20\n",
      "29399/29399 [==============================] - 4s 143us/step - loss: 0.0776 - acc: 0.9780 - val_loss: 0.1121 - val_acc: 0.9668\n",
      "Epoch 5/20\n",
      "29399/29399 [==============================] - 4s 141us/step - loss: 0.0582 - acc: 0.9839 - val_loss: 0.1093 - val_acc: 0.9675\n",
      "Epoch 6/20\n",
      "29399/29399 [==============================] - 4s 142us/step - loss: 0.0451 - acc: 0.9876 - val_loss: 0.1008 - val_acc: 0.9704\n",
      "Epoch 7/20\n",
      "29399/29399 [==============================] - 4s 143us/step - loss: 0.0353 - acc: 0.9901 - val_loss: 0.1018 - val_acc: 0.9681\n",
      "Epoch 8/20\n",
      "29399/29399 [==============================] - 6s 191us/step - loss: 0.0266 - acc: 0.9936 - val_loss: 0.0972 - val_acc: 0.9724\n",
      "Epoch 9/20\n",
      "29399/29399 [==============================] - 6s 202us/step - loss: 0.0192 - acc: 0.9965 - val_loss: 0.0952 - val_acc: 0.9730\n",
      "Epoch 10/20\n",
      "29399/29399 [==============================] - 6s 189us/step - loss: 0.0152 - acc: 0.9972 - val_loss: 0.0975 - val_acc: 0.9719\n",
      "Epoch 11/20\n",
      "29399/29399 [==============================] - 5s 186us/step - loss: 0.0111 - acc: 0.9983 - val_loss: 0.0985 - val_acc: 0.9728\n",
      "Epoch 12/20\n",
      "29399/29399 [==============================] - 6s 196us/step - loss: 0.0084 - acc: 0.9992 - val_loss: 0.1018 - val_acc: 0.9730\n",
      "Epoch 13/20\n",
      "29399/29399 [==============================] - 6s 194us/step - loss: 0.0064 - acc: 0.9996 - val_loss: 0.1004 - val_acc: 0.9744\n",
      "Epoch 14/20\n",
      "29399/29399 [==============================] - 6s 213us/step - loss: 0.0052 - acc: 0.9998 - val_loss: 0.0989 - val_acc: 0.9746\n",
      "Epoch 15/20\n",
      "29399/29399 [==============================] - 6s 218us/step - loss: 0.0044 - acc: 0.9999 - val_loss: 0.1026 - val_acc: 0.9737\n",
      "Epoch 16/20\n",
      "29399/29399 [==============================] - 6s 215us/step - loss: 0.0036 - acc: 1.0000 - val_loss: 0.1011 - val_acc: 0.9746\n",
      "Epoch 17/20\n",
      "29399/29399 [==============================] - 7s 229us/step - loss: 0.0031 - acc: 1.0000 - val_loss: 0.1032 - val_acc: 0.9741\n",
      "Epoch 18/20\n",
      "29399/29399 [==============================] - 7s 226us/step - loss: 0.0027 - acc: 1.0000 - val_loss: 0.1026 - val_acc: 0.9741\n",
      "Epoch 19/20\n",
      "29399/29399 [==============================] - 7s 239us/step - loss: 0.0024 - acc: 1.0000 - val_loss: 0.1043 - val_acc: 0.9741\n",
      "Epoch 20/20\n",
      "29399/29399 [==============================] - 7s 230us/step - loss: 0.0022 - acc: 1.0000 - val_loss: 0.1041 - val_acc: 0.9748\n"
     ]
    },
    {
     "data": {
      "text/plain": [
       "<keras.callbacks.History at 0x7fea0e5e6dd8>"
      ]
     },
     "execution_count": 18,
     "metadata": {},
     "output_type": "execute_result"
    }
   ],
   "source": [
    "model.fit(X_train, y_train, epochs=20, validation_split = 0.3)"
   ]
  },
  {
   "cell_type": "code",
   "execution_count": 19,
   "metadata": {
    "collapsed": false
   },
   "outputs": [
    {
     "name": "stdout",
     "output_type": "stream",
     "text": [
      "28000/28000 [==============================] - 2s 60us/step\n"
     ]
    }
   ],
   "source": [
    "preds = model.predict_classes(X_test)"
   ]
  },
  {
   "cell_type": "code",
   "execution_count": 20,
   "metadata": {
    "collapsed": false
   },
   "outputs": [
    {
     "data": {
      "text/plain": [
       "(28000,)"
      ]
     },
     "execution_count": 20,
     "metadata": {},
     "output_type": "execute_result"
    }
   ],
   "source": [
    "preds.shape"
   ]
  },
  {
   "cell_type": "code",
   "execution_count": 21,
   "metadata": {
    "collapsed": false
   },
   "outputs": [],
   "source": [
    "df = pd.DataFrame({'ImageId': list(range(1, len(preds)+1)), 'Label':preds})"
   ]
  },
  {
   "cell_type": "code",
   "execution_count": 22,
   "metadata": {
    "collapsed": true
   },
   "outputs": [],
   "source": [
    "df.to_csv('MNIST_out.csv', index = False, header = True)"
   ]
  },
  {
   "cell_type": "code",
   "execution_count": null,
   "metadata": {
    "collapsed": true
   },
   "outputs": [],
   "source": []
  }
 ],
 "metadata": {
  "kernelspec": {
   "display_name": "Python 3",
   "language": "python",
   "name": "python3"
  },
  "language_info": {
   "codemirror_mode": {
    "name": "ipython",
    "version": 3
   },
   "file_extension": ".py",
   "mimetype": "text/x-python",
   "name": "python",
   "nbconvert_exporter": "python",
   "pygments_lexer": "ipython3",
   "version": "3.6.3"
  }
 },
 "nbformat": 4,
 "nbformat_minor": 2
}
