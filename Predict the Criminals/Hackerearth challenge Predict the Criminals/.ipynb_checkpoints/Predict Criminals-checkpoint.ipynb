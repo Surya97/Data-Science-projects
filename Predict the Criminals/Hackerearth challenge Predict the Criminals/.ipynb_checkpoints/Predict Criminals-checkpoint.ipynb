{
 "cells": [
  {
   "cell_type": "code",
   "execution_count": 1,
   "metadata": {},
   "outputs": [
    {
     "name": "stderr",
     "output_type": "stream",
     "text": [
      "Using TensorFlow backend.\n"
     ]
    }
   ],
   "source": [
    "from keras.layers import Dense, Activation\n",
    "from keras.models import Sequential"
   ]
  },
  {
   "cell_type": "code",
   "execution_count": 2,
   "metadata": {
    "collapsed": true
   },
   "outputs": [],
   "source": [
    "import pandas as pd\n",
    "import numpy as np"
   ]
  },
  {
   "cell_type": "code",
   "execution_count": 3,
   "metadata": {},
   "outputs": [
    {
     "name": "stdout",
     "output_type": "stream",
     "text": [
      "(45718, 72) (11430, 71)\n"
     ]
    }
   ],
   "source": [
    "train = pd.read_csv('criminal_train.csv')\n",
    "test = pd.read_csv('criminal_test.csv')\n",
    "print(train.shape, test.shape)"
   ]
  },
  {
   "cell_type": "code",
   "execution_count": 4,
   "metadata": {},
   "outputs": [],
   "source": [
    "X_train = train.iloc[:,1:-1]\n",
    "y_train = train['Criminal'].values\n",
    "X_test = test.iloc[:, 1:]"
   ]
  },
  {
   "cell_type": "code",
   "execution_count": 5,
   "metadata": {},
   "outputs": [
    {
     "name": "stdout",
     "output_type": "stream",
     "text": [
      "(45718, 70) (45718,)\n",
      "<class 'pandas.core.frame.DataFrame'> <class 'numpy.ndarray'>\n",
      "{0, 1}\n"
     ]
    }
   ],
   "source": [
    "print(X_train.shape, y_train.shape)\n",
    "print(type(X_train), type(y_train))\n",
    "print(set(y_train))"
   ]
  },
  {
   "cell_type": "code",
   "execution_count": 6,
   "metadata": {
    "collapsed": true
   },
   "outputs": [],
   "source": [
    "from sklearn.preprocessing import StandardScaler\n",
    "scaler = StandardScaler()"
   ]
  },
  {
   "cell_type": "code",
   "execution_count": 29,
   "metadata": {},
   "outputs": [],
   "source": [
    "model = Sequential()\n",
    "model.add(Dense(100, input_dim = X_train.shape[1]))\n",
    "model.add(Dense(150))\n",
    "model.add(Activation('softmax'))"
   ]
  },
  {
   "cell_type": "code",
   "execution_count": 30,
   "metadata": {
    "collapsed": true
   },
   "outputs": [],
   "source": [
    "from keras.optimizers import SGD\n",
    "model.compile(optimizer = SGD(lr = 0.03), loss = 'sparse_categorical_crossentropy', metrics = ['accuracy'])"
   ]
  },
  {
   "cell_type": "code",
   "execution_count": 31,
   "metadata": {},
   "outputs": [
    {
     "name": "stdout",
     "output_type": "stream",
     "text": [
      "Training the model....\n",
      "Train on 32002 samples, validate on 13716 samples\n",
      "Epoch 1/20\n",
      "32002/32002 [==============================] - 2s - loss: 0.4151 - acc: 0.9121 - val_loss: 0.1661 - val_acc: 0.9392\n",
      "Epoch 2/20\n",
      "32002/32002 [==============================] - 2s - loss: 0.1557 - acc: 0.9365 - val_loss: 0.1762 - val_acc: 0.9342\n",
      "Epoch 3/20\n",
      "32002/32002 [==============================] - 2s - loss: 0.1528 - acc: 0.9370 - val_loss: 0.1483 - val_acc: 0.9389\n",
      "Epoch 4/20\n",
      "32002/32002 [==============================] - 2s - loss: 0.1498 - acc: 0.9364 - val_loss: 0.1600 - val_acc: 0.9310\n",
      "Epoch 5/20\n",
      "32002/32002 [==============================] - 2s - loss: 0.1500 - acc: 0.9360 - val_loss: 0.1463 - val_acc: 0.9381\n",
      "Epoch 6/20\n",
      "32002/32002 [==============================] - 2s - loss: 0.1483 - acc: 0.9369 - val_loss: 0.1461 - val_acc: 0.9404\n",
      "Epoch 7/20\n",
      "32002/32002 [==============================] - 2s - loss: 0.1478 - acc: 0.9372 - val_loss: 0.1704 - val_acc: 0.9310\n",
      "Epoch 8/20\n",
      "32002/32002 [==============================] - 2s - loss: 0.1467 - acc: 0.9370 - val_loss: 0.1481 - val_acc: 0.9394\n",
      "Epoch 9/20\n",
      "32002/32002 [==============================] - 2s - loss: 0.1453 - acc: 0.9371 - val_loss: 0.1474 - val_acc: 0.9388\n",
      "Epoch 10/20\n",
      "32002/32002 [==============================] - 2s - loss: 0.1450 - acc: 0.9373 - val_loss: 0.1572 - val_acc: 0.9350\n",
      "Epoch 11/20\n",
      "32002/32002 [==============================] - 2s - loss: 0.1454 - acc: 0.9368 - val_loss: 0.1473 - val_acc: 0.9388\n",
      "Epoch 12/20\n",
      "32002/32002 [==============================] - 2s - loss: 0.1437 - acc: 0.9379 - val_loss: 0.1439 - val_acc: 0.9390\n",
      "Epoch 13/20\n",
      "32002/32002 [==============================] - 2s - loss: 0.1432 - acc: 0.9380 - val_loss: 0.1478 - val_acc: 0.9387\n",
      "Epoch 14/20\n",
      "32002/32002 [==============================] - 2s - loss: 0.1438 - acc: 0.9370 - val_loss: 0.1421 - val_acc: 0.9401\n",
      "Epoch 15/20\n",
      "32002/32002 [==============================] - 2s - loss: 0.1429 - acc: 0.9378 - val_loss: 0.1662 - val_acc: 0.9304\n",
      "Epoch 16/20\n",
      "32002/32002 [==============================] - 2s - loss: 0.1431 - acc: 0.9370 - val_loss: 0.1435 - val_acc: 0.9351\n",
      "Epoch 17/20\n",
      "32002/32002 [==============================] - 2s - loss: 0.1429 - acc: 0.9380 - val_loss: 0.1460 - val_acc: 0.9393\n",
      "Epoch 18/20\n",
      "32002/32002 [==============================] - 2s - loss: 0.1431 - acc: 0.9374 - val_loss: 0.1460 - val_acc: 0.9393\n",
      "Epoch 19/20\n",
      "32002/32002 [==============================] - 2s - loss: 0.1419 - acc: 0.9382 - val_loss: 0.1426 - val_acc: 0.9380\n",
      "Epoch 20/20\n",
      "32002/32002 [==============================] - 2s - loss: 0.1421 - acc: 0.9385 - val_loss: 0.1433 - val_acc: 0.9385\n"
     ]
    },
    {
     "data": {
      "text/plain": [
       "<keras.callbacks.History at 0x7f9e79354d68>"
      ]
     },
     "execution_count": 31,
     "metadata": {},
     "output_type": "execute_result"
    }
   ],
   "source": [
    "print('Training the model....')\n",
    "model.fit(scaler.fit_transform(X_train.values), y_train, epochs=20, validation_split = 0.3)"
   ]
  },
  {
   "cell_type": "code",
   "execution_count": 32,
   "metadata": {
    "scrolled": true
   },
   "outputs": [
    {
     "name": "stdout",
     "output_type": "stream",
     "text": [
      "10848/11430 [===========================>..] - ETA: 0s"
     ]
    }
   ],
   "source": [
    "y_prediction = model.predict_classes(scaler.fit_transform(X_test.values))"
   ]
  },
  {
   "cell_type": "code",
   "execution_count": 33,
   "metadata": {},
   "outputs": [
    {
     "data": {
      "text/plain": [
       "(11430,)"
      ]
     },
     "execution_count": 33,
     "metadata": {},
     "output_type": "execute_result"
    }
   ],
   "source": [
    "y_prediction.shape"
   ]
  },
  {
   "cell_type": "code",
   "execution_count": 34,
   "metadata": {},
   "outputs": [
    {
     "data": {
      "text/html": [
       "<div>\n",
       "<style>\n",
       "    .dataframe thead tr:only-child th {\n",
       "        text-align: right;\n",
       "    }\n",
       "\n",
       "    .dataframe thead th {\n",
       "        text-align: left;\n",
       "    }\n",
       "\n",
       "    .dataframe tbody tr th {\n",
       "        vertical-align: top;\n",
       "    }\n",
       "</style>\n",
       "<table border=\"1\" class=\"dataframe\">\n",
       "  <thead>\n",
       "    <tr style=\"text-align: right;\">\n",
       "      <th></th>\n",
       "      <th>PERID</th>\n",
       "      <th>Criminal</th>\n",
       "    </tr>\n",
       "  </thead>\n",
       "  <tbody>\n",
       "    <tr>\n",
       "      <th>0</th>\n",
       "      <td>66583679</td>\n",
       "      <td>0</td>\n",
       "    </tr>\n",
       "    <tr>\n",
       "      <th>1</th>\n",
       "      <td>35494679</td>\n",
       "      <td>0</td>\n",
       "    </tr>\n",
       "    <tr>\n",
       "      <th>2</th>\n",
       "      <td>79424679</td>\n",
       "      <td>0</td>\n",
       "    </tr>\n",
       "    <tr>\n",
       "      <th>3</th>\n",
       "      <td>11744679</td>\n",
       "      <td>0</td>\n",
       "    </tr>\n",
       "    <tr>\n",
       "      <th>4</th>\n",
       "      <td>31554679</td>\n",
       "      <td>0</td>\n",
       "    </tr>\n",
       "  </tbody>\n",
       "</table>\n",
       "</div>"
      ],
      "text/plain": [
       "      PERID  Criminal\n",
       "0  66583679         0\n",
       "1  35494679         0\n",
       "2  79424679         0\n",
       "3  11744679         0\n",
       "4  31554679         0"
      ]
     },
     "execution_count": 34,
     "metadata": {},
     "output_type": "execute_result"
    }
   ],
   "source": [
    "output = pd.DataFrame()\n",
    "output['PERID'] = test['PERID']\n",
    "output['Criminal'] = y_prediction\n",
    "output.head()"
   ]
  },
  {
   "cell_type": "code",
   "execution_count": 35,
   "metadata": {},
   "outputs": [
    {
     "data": {
      "text/plain": [
       "{0, 1}"
      ]
     },
     "execution_count": 35,
     "metadata": {},
     "output_type": "execute_result"
    }
   ],
   "source": [
    "set(output['Criminal'])"
   ]
  },
  {
   "cell_type": "code",
   "execution_count": 36,
   "metadata": {
    "collapsed": true
   },
   "outputs": [],
   "source": [
    "output.to_csv('output.csv', index = False)"
   ]
  },
  {
   "cell_type": "code",
   "execution_count": null,
   "metadata": {
    "collapsed": true
   },
   "outputs": [],
   "source": []
  }
 ],
 "metadata": {
  "kernelspec": {
   "display_name": "Python 3",
   "language": "python",
   "name": "python3"
  },
  "language_info": {
   "codemirror_mode": {
    "name": "ipython",
    "version": 3
   },
   "file_extension": ".py",
   "mimetype": "text/x-python",
   "name": "python",
   "nbconvert_exporter": "python",
   "pygments_lexer": "ipython3",
   "version": "3.6.3"
  }
 },
 "nbformat": 4,
 "nbformat_minor": 2
}
