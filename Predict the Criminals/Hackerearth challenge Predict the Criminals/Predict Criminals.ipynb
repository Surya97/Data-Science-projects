{
 "cells": [
  {
   "cell_type": "code",
   "execution_count": 1,
   "metadata": {},
   "outputs": [
    {
     "name": "stderr",
     "output_type": "stream",
     "text": [
      "Using TensorFlow backend.\n"
     ]
    }
   ],
   "source": [
    "from keras.layers import Dense, Activation\n",
    "from keras.models import Sequential"
   ]
  },
  {
   "cell_type": "code",
   "execution_count": 2,
   "metadata": {
    "collapsed": true
   },
   "outputs": [],
   "source": [
    "import pandas as pd\n",
    "import numpy as np"
   ]
  },
  {
   "cell_type": "code",
   "execution_count": 3,
   "metadata": {},
   "outputs": [
    {
     "name": "stdout",
     "output_type": "stream",
     "text": [
      "(45718, 72) (11430, 71)\n"
     ]
    }
   ],
   "source": [
    "train = pd.read_csv('criminal_train.csv')\n",
    "test = pd.read_csv('criminal_test.csv')\n",
    "print(train.shape, test.shape)"
   ]
  },
  {
   "cell_type": "code",
   "execution_count": 4,
   "metadata": {},
   "outputs": [],
   "source": [
    "X_train = train.iloc[:,1:-1]\n",
    "y_train = train['Criminal'].values\n",
    "X_test = test.iloc[:, 1:]"
   ]
  },
  {
   "cell_type": "code",
   "execution_count": 5,
   "metadata": {},
   "outputs": [
    {
     "name": "stdout",
     "output_type": "stream",
     "text": [
      "(45718, 70) (45718,)\n",
      "<class 'pandas.core.frame.DataFrame'> <class 'numpy.ndarray'>\n",
      "{0, 1}\n"
     ]
    }
   ],
   "source": [
    "print(X_train.shape, y_train.shape)\n",
    "print(type(X_train), type(y_train))\n",
    "print(set(y_train))"
   ]
  },
  {
   "cell_type": "code",
   "execution_count": 6,
   "metadata": {
    "collapsed": true
   },
   "outputs": [],
   "source": [
    "from sklearn.preprocessing import StandardScaler\n",
    "scaler = StandardScaler()"
   ]
  },
  {
   "cell_type": "code",
   "execution_count": 7,
   "metadata": {},
   "outputs": [],
   "source": [
    "model = Sequential()\n",
    "model.add(Dense(150, input_dim = X_train.shape[1]))\n",
    "model.add(Dense(100))\n",
    "model.add(Activation('softmax'))"
   ]
  },
  {
   "cell_type": "code",
   "execution_count": 8,
   "metadata": {
    "collapsed": true
   },
   "outputs": [],
   "source": [
    "from keras.optimizers import SGD\n",
    "model.compile(optimizer = SGD(lr = 0.03), loss = 'sparse_categorical_crossentropy', metrics = ['accuracy'])"
   ]
  },
  {
   "cell_type": "code",
   "execution_count": 9,
   "metadata": {},
   "outputs": [
    {
     "name": "stdout",
     "output_type": "stream",
     "text": [
      "Training the model....\n",
      "Train on 32002 samples, validate on 13716 samples\n",
      "Epoch 1/20\n",
      "32002/32002 [==============================] - 2s - loss: 0.3734 - acc: 0.9137 - val_loss: 0.1564 - val_acc: 0.9388\n",
      "Epoch 2/20\n",
      "32002/32002 [==============================] - 2s - loss: 0.1575 - acc: 0.9359 - val_loss: 0.1496 - val_acc: 0.9335\n",
      "Epoch 3/20\n",
      "32002/32002 [==============================] - 2s - loss: 0.1517 - acc: 0.9365 - val_loss: 0.1465 - val_acc: 0.9353\n",
      "Epoch 4/20\n",
      "32002/32002 [==============================] - 2s - loss: 0.1506 - acc: 0.9365 - val_loss: 0.1504 - val_acc: 0.9329\n",
      "Epoch 5/20\n",
      "32002/32002 [==============================] - 2s - loss: 0.1496 - acc: 0.9373 - val_loss: 0.1481 - val_acc: 0.9396\n",
      "Epoch 6/20\n",
      "32002/32002 [==============================] - 2s - loss: 0.1481 - acc: 0.9362 - val_loss: 0.1418 - val_acc: 0.9358\n",
      "Epoch 7/20\n",
      "32002/32002 [==============================] - 2s - loss: 0.1460 - acc: 0.9373 - val_loss: 0.1482 - val_acc: 0.9358\n",
      "Epoch 8/20\n",
      "32002/32002 [==============================] - 2s - loss: 0.1447 - acc: 0.9368 - val_loss: 0.1572 - val_acc: 0.9287\n",
      "Epoch 9/20\n",
      "32002/32002 [==============================] - 2s - loss: 0.1460 - acc: 0.9372 - val_loss: 0.1443 - val_acc: 0.9372\n",
      "Epoch 10/20\n",
      "32002/32002 [==============================] - 2s - loss: 0.1447 - acc: 0.9369 - val_loss: 0.1495 - val_acc: 0.9378\n",
      "Epoch 11/20\n",
      "32002/32002 [==============================] - 2s - loss: 0.1440 - acc: 0.9369 - val_loss: 0.1453 - val_acc: 0.9409\n",
      "Epoch 12/20\n",
      "32002/32002 [==============================] - 2s - loss: 0.1432 - acc: 0.9378 - val_loss: 0.1450 - val_acc: 0.9326\n",
      "Epoch 13/20\n",
      "32002/32002 [==============================] - 2s - loss: 0.1435 - acc: 0.9368 - val_loss: 0.1422 - val_acc: 0.9386\n",
      "Epoch 14/20\n",
      "32002/32002 [==============================] - 2s - loss: 0.1418 - acc: 0.9377 - val_loss: 0.1659 - val_acc: 0.9345\n",
      "Epoch 15/20\n",
      "32002/32002 [==============================] - 2s - loss: 0.1422 - acc: 0.9373 - val_loss: 0.1429 - val_acc: 0.9358\n",
      "Epoch 16/20\n",
      "32002/32002 [==============================] - 2s - loss: 0.1424 - acc: 0.9373 - val_loss: 0.1702 - val_acc: 0.9327\n",
      "Epoch 17/20\n",
      "32002/32002 [==============================] - 2s - loss: 0.1426 - acc: 0.9372 - val_loss: 0.2515 - val_acc: 0.9313\n",
      "Epoch 18/20\n",
      "32002/32002 [==============================] - 2s - loss: 0.1487 - acc: 0.9370 - val_loss: 0.1444 - val_acc: 0.9332\n",
      "Epoch 19/20\n",
      "32002/32002 [==============================] - 2s - loss: 0.1425 - acc: 0.9365 - val_loss: 0.2049 - val_acc: 0.9358\n",
      "Epoch 20/20\n",
      "32002/32002 [==============================] - 2s - loss: 0.1648 - acc: 0.9368 - val_loss: 0.1566 - val_acc: 0.9347\n"
     ]
    },
    {
     "data": {
      "text/plain": [
       "<keras.callbacks.History at 0x7f9e7d0fb940>"
      ]
     },
     "execution_count": 9,
     "metadata": {},
     "output_type": "execute_result"
    }
   ],
   "source": [
    "print('Training the model....')\n",
    "model.fit(scaler.fit_transform(X_train.values), y_train, epochs=20, validation_split = 0.3)"
   ]
  },
  {
   "cell_type": "code",
   "execution_count": 10,
   "metadata": {
    "scrolled": true
   },
   "outputs": [
    {
     "name": "stdout",
     "output_type": "stream",
     "text": [
      "11200/11430 [============================>.] - ETA: 0s"
     ]
    }
   ],
   "source": [
    "y_prediction = model.predict_classes(scaler.fit_transform(X_test.values))"
   ]
  },
  {
   "cell_type": "code",
   "execution_count": 11,
   "metadata": {},
   "outputs": [
    {
     "data": {
      "text/plain": [
       "(11430,)"
      ]
     },
     "execution_count": 11,
     "metadata": {},
     "output_type": "execute_result"
    }
   ],
   "source": [
    "y_prediction.shape"
   ]
  },
  {
   "cell_type": "code",
   "execution_count": 12,
   "metadata": {},
   "outputs": [
    {
     "data": {
      "text/html": [
       "<div>\n",
       "<style>\n",
       "    .dataframe thead tr:only-child th {\n",
       "        text-align: right;\n",
       "    }\n",
       "\n",
       "    .dataframe thead th {\n",
       "        text-align: left;\n",
       "    }\n",
       "\n",
       "    .dataframe tbody tr th {\n",
       "        vertical-align: top;\n",
       "    }\n",
       "</style>\n",
       "<table border=\"1\" class=\"dataframe\">\n",
       "  <thead>\n",
       "    <tr style=\"text-align: right;\">\n",
       "      <th></th>\n",
       "      <th>PERID</th>\n",
       "      <th>Criminal</th>\n",
       "    </tr>\n",
       "  </thead>\n",
       "  <tbody>\n",
       "    <tr>\n",
       "      <th>0</th>\n",
       "      <td>66583679</td>\n",
       "      <td>0</td>\n",
       "    </tr>\n",
       "    <tr>\n",
       "      <th>1</th>\n",
       "      <td>35494679</td>\n",
       "      <td>0</td>\n",
       "    </tr>\n",
       "    <tr>\n",
       "      <th>2</th>\n",
       "      <td>79424679</td>\n",
       "      <td>0</td>\n",
       "    </tr>\n",
       "    <tr>\n",
       "      <th>3</th>\n",
       "      <td>11744679</td>\n",
       "      <td>0</td>\n",
       "    </tr>\n",
       "    <tr>\n",
       "      <th>4</th>\n",
       "      <td>31554679</td>\n",
       "      <td>0</td>\n",
       "    </tr>\n",
       "  </tbody>\n",
       "</table>\n",
       "</div>"
      ],
      "text/plain": [
       "      PERID  Criminal\n",
       "0  66583679         0\n",
       "1  35494679         0\n",
       "2  79424679         0\n",
       "3  11744679         0\n",
       "4  31554679         0"
      ]
     },
     "execution_count": 12,
     "metadata": {},
     "output_type": "execute_result"
    }
   ],
   "source": [
    "output = pd.DataFrame()\n",
    "output['PERID'] = test['PERID']\n",
    "output['Criminal'] = y_prediction\n",
    "output.head()"
   ]
  },
  {
   "cell_type": "code",
   "execution_count": 13,
   "metadata": {},
   "outputs": [
    {
     "data": {
      "text/plain": [
       "{0, 1}"
      ]
     },
     "execution_count": 13,
     "metadata": {},
     "output_type": "execute_result"
    }
   ],
   "source": [
    "set(output['Criminal'])"
   ]
  },
  {
   "cell_type": "code",
   "execution_count": 14,
   "metadata": {
    "collapsed": true
   },
   "outputs": [],
   "source": [
    "output.to_csv('output.csv', index = False)"
   ]
  },
  {
   "cell_type": "code",
   "execution_count": null,
   "metadata": {
    "collapsed": true
   },
   "outputs": [],
   "source": []
  }
 ],
 "metadata": {
  "kernelspec": {
   "display_name": "Python 3",
   "language": "python",
   "name": "python3"
  },
  "language_info": {
   "codemirror_mode": {
    "name": "ipython",
    "version": 3
   },
   "file_extension": ".py",
   "mimetype": "text/x-python",
   "name": "python",
   "nbconvert_exporter": "python",
   "pygments_lexer": "ipython3",
   "version": "3.6.3"
  }
 },
 "nbformat": 4,
 "nbformat_minor": 2
}
