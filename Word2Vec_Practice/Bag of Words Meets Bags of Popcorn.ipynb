{
 "cells": [
  {
   "cell_type": "code",
   "execution_count": 1,
   "metadata": {
    "collapsed": true
   },
   "outputs": [],
   "source": [
    "import numpy as np\n",
    "import pandas as pd\n",
    "import matplotlib.pyplot as plt"
   ]
  },
  {
   "cell_type": "code",
   "execution_count": 2,
   "metadata": {},
   "outputs": [],
   "source": [
    "train = pd.read_csv('labeledTrainData.tsv', header = 0, delimiter = '\\t', quoting = 3)\n",
    "test = pd.read_csv('testData.tsv', header=0, delimiter = '\\t', quoting = 3 )\n",
    "unlabeled_train = pd.read_csv('unlabeledTrainData.tsv', header = 0, delimiter = '\\t', quoting = 3 )"
   ]
  },
  {
   "cell_type": "code",
   "execution_count": 3,
   "metadata": {},
   "outputs": [
    {
     "name": "stdout",
     "output_type": "stream",
     "text": [
      "25000 25000 50000\n"
     ]
    }
   ],
   "source": [
    "print(train['review'].size, test['review'].size, unlabeled_train['review'].size)"
   ]
  },
  {
   "cell_type": "code",
   "execution_count": 4,
   "metadata": {
    "collapsed": true
   },
   "outputs": [],
   "source": [
    "from bs4 import BeautifulSoup\n",
    "import re\n",
    "from nltk.corpus import stopwords"
   ]
  },
  {
   "cell_type": "code",
   "execution_count": 5,
   "metadata": {
    "collapsed": true
   },
   "outputs": [],
   "source": [
    "def review_to_wordlist(review, remove_stopwords = False):\n",
    "    #Remove HTML tags\n",
    "    review_text = BeautifulSoup(review).get_text()\n",
    "    #Remove all non-letters\n",
    "    review_text = re.sub(\"[^a-zA-Z]\",\" \", review_text)\n",
    "    #Convert to lower case and split into words\n",
    "    words = review_text.lower().split()\n",
    "    \n",
    "    #remove stopwords if specified\n",
    "    if remove_stopwords:\n",
    "        stops = set(stopwords.words(\"english\"))\n",
    "        words = [w for w in words if not w in stops]\n",
    "    return words"
   ]
  },
  {
   "cell_type": "code",
   "execution_count": 6,
   "metadata": {},
   "outputs": [],
   "source": [
    "# To split a paragraph into sentences a Punkt Tokenizer is used\n",
    "# Load the punkt tokenizer\n",
    "import nltk\n",
    "tokenizer = nltk.data.load('tokenizers/punkt/english.pickle')\n",
    "def review_to_sentences(review, tokenizer, remove_stopwords = False):\n",
    "    raw_sentences = tokenizer.tokenize(review.strip())\n",
    "    sentences = []\n",
    "    for raw_sentence in raw_sentences:\n",
    "        if len(raw_sentence) > 0:\n",
    "            sentences.append(review_to_wordlist(raw_sentence, remove_stopwords))\n",
    "    \n",
    "    return sentences"
   ]
  },
  {
   "cell_type": "code",
   "execution_count": 7,
   "metadata": {},
   "outputs": [
    {
     "name": "stdout",
     "output_type": "stream",
     "text": [
      "Parsing sentences from training set\n"
     ]
    },
    {
     "name": "stderr",
     "output_type": "stream",
     "text": [
      "/home/suryavamsi/anaconda3/lib/python3.6/site-packages/bs4/__init__.py:181: UserWarning: No parser was explicitly specified, so I'm using the best available HTML parser for this system (\"lxml\"). This usually isn't a problem, but if you run this code on another system, or in a different virtual environment, it may use a different parser and behave differently.\n",
      "\n",
      "The code that caused this warning is on line 193 of the file /home/suryavamsi/anaconda3/lib/python3.6/runpy.py. To get rid of this warning, change code that looks like this:\n",
      "\n",
      " BeautifulSoup(YOUR_MARKUP})\n",
      "\n",
      "to this:\n",
      "\n",
      " BeautifulSoup(YOUR_MARKUP, \"lxml\")\n",
      "\n",
      "  markup_type=markup_type))\n",
      "/home/suryavamsi/anaconda3/lib/python3.6/site-packages/bs4/__init__.py:219: UserWarning: \"b'.'\" looks like a filename, not markup. You should probably open this file and pass the filehandle into Beautiful Soup.\n",
      "  ' Beautiful Soup.' % markup)\n",
      "/home/suryavamsi/anaconda3/lib/python3.6/site-packages/bs4/__init__.py:282: UserWarning: \"http://www.happierabroad.com\"\" looks like a URL. Beautiful Soup is not an HTTP client. You should probably use an HTTP client like requests to get the document behind the URL, and feed that document to Beautiful Soup.\n",
      "  ' that document to Beautiful Soup.' % decoded_markup\n"
     ]
    },
    {
     "name": "stdout",
     "output_type": "stream",
     "text": [
      "Parsing sentences from unlabeled set\n"
     ]
    },
    {
     "name": "stderr",
     "output_type": "stream",
     "text": [
      "/home/suryavamsi/anaconda3/lib/python3.6/site-packages/bs4/__init__.py:282: UserWarning: \"http://www.archive.org/details/LovefromaStranger\"\" looks like a URL. Beautiful Soup is not an HTTP client. You should probably use an HTTP client like requests to get the document behind the URL, and feed that document to Beautiful Soup.\n",
      "  ' that document to Beautiful Soup.' % decoded_markup\n",
      "/home/suryavamsi/anaconda3/lib/python3.6/site-packages/bs4/__init__.py:282: UserWarning: \"http://www.loosechangeguide.com/LooseChangeGuide.html\"\" looks like a URL. Beautiful Soup is not an HTTP client. You should probably use an HTTP client like requests to get the document behind the URL, and feed that document to Beautiful Soup.\n",
      "  ' that document to Beautiful Soup.' % decoded_markup\n",
      "/home/suryavamsi/anaconda3/lib/python3.6/site-packages/bs4/__init__.py:282: UserWarning: \"http://www.msnbc.msn.com/id/4972055/site/newsweek/\"\" looks like a URL. Beautiful Soup is not an HTTP client. You should probably use an HTTP client like requests to get the document behind the URL, and feed that document to Beautiful Soup.\n",
      "  ' that document to Beautiful Soup.' % decoded_markup\n",
      "/home/suryavamsi/anaconda3/lib/python3.6/site-packages/bs4/__init__.py:219: UserWarning: \"b'..'\" looks like a filename, not markup. You should probably open this file and pass the filehandle into Beautiful Soup.\n",
      "  ' Beautiful Soup.' % markup)\n",
      "/home/suryavamsi/anaconda3/lib/python3.6/site-packages/bs4/__init__.py:282: UserWarning: \"http://www.youtube.com/watch?v=a0KSqelmgN8\"\" looks like a URL. Beautiful Soup is not an HTTP client. You should probably use an HTTP client like requests to get the document behind the URL, and feed that document to Beautiful Soup.\n",
      "  ' that document to Beautiful Soup.' % decoded_markup\n",
      "/home/suryavamsi/anaconda3/lib/python3.6/site-packages/bs4/__init__.py:282: UserWarning: \"http://jake-weird.blogspot.com/2007/08/beneath.html\"\" looks like a URL. Beautiful Soup is not an HTTP client. You should probably use an HTTP client like requests to get the document behind the URL, and feed that document to Beautiful Soup.\n",
      "  ' that document to Beautiful Soup.' % decoded_markup\n"
     ]
    },
    {
     "name": "stdout",
     "output_type": "stream",
     "text": [
      "795538\n",
      "['with', 'all', 'this', 'stuff', 'going', 'down', 'at', 'the', 'moment', 'with', 'mj', 'i', 've', 'started', 'listening', 'to', 'his', 'music', 'watching', 'the', 'odd', 'documentary', 'here', 'and', 'there', 'watched', 'the', 'wiz', 'and', 'watched', 'moonwalker', 'again']\n"
     ]
    }
   ],
   "source": [
    "sentences = []\n",
    "print('Parsing sentences from training set')\n",
    "for review in train['review']:\n",
    "    sentences+=review_to_sentences(review, tokenizer)\n",
    "    \n",
    "print('Parsing sentences from unlabeled set')\n",
    "for review in unlabeled_train['review']:\n",
    "    sentences+=review_to_sentences(review, tokenizer)\n",
    "    \n",
    "print(len(sentences))\n",
    "print(sentences[0])"
   ]
  },
  {
   "cell_type": "code",
   "execution_count": 19,
   "metadata": {},
   "outputs": [
    {
     "data": {
      "text/plain": [
       "['maybe',\n",
       " 'i',\n",
       " 'just',\n",
       " 'want',\n",
       " 'to',\n",
       " 'get',\n",
       " 'a',\n",
       " 'certain',\n",
       " 'insight',\n",
       " 'into',\n",
       " 'this',\n",
       " 'guy',\n",
       " 'who',\n",
       " 'i',\n",
       " 'thought',\n",
       " 'was',\n",
       " 'really',\n",
       " 'cool',\n",
       " 'in',\n",
       " 'the',\n",
       " 'eighties',\n",
       " 'just',\n",
       " 'to',\n",
       " 'maybe',\n",
       " 'make',\n",
       " 'up',\n",
       " 'my',\n",
       " 'mind',\n",
       " 'whether',\n",
       " 'he',\n",
       " 'is',\n",
       " 'guilty',\n",
       " 'or',\n",
       " 'innocent']"
      ]
     },
     "execution_count": 19,
     "metadata": {},
     "output_type": "execute_result"
    }
   ],
   "source": [
    "sentences[1]"
   ]
  },
  {
   "cell_type": "markdown",
   "metadata": {},
   "source": [
    "# Training and saving the model"
   ]
  },
  {
   "cell_type": "code",
   "execution_count": 20,
   "metadata": {},
   "outputs": [
    {
     "name": "stderr",
     "output_type": "stream",
     "text": [
      "2018-03-07 19:03:08,381 : INFO : collecting all words and their counts\n",
      "2018-03-07 19:03:08,382 : INFO : PROGRESS: at sentence #0, processed 0 words, keeping 0 word types\n",
      "2018-03-07 19:03:08,432 : INFO : PROGRESS: at sentence #10000, processed 225803 words, keeping 17776 word types\n",
      "2018-03-07 19:03:08,495 : INFO : PROGRESS: at sentence #20000, processed 451892 words, keeping 24948 word types\n",
      "2018-03-07 19:03:08,542 : INFO : PROGRESS: at sentence #30000, processed 671315 words, keeping 30034 word types\n"
     ]
    },
    {
     "name": "stdout",
     "output_type": "stream",
     "text": [
      "Training model\n"
     ]
    },
    {
     "name": "stderr",
     "output_type": "stream",
     "text": [
      "2018-03-07 19:03:08,591 : INFO : PROGRESS: at sentence #40000, processed 897815 words, keeping 34348 word types\n",
      "2018-03-07 19:03:08,648 : INFO : PROGRESS: at sentence #50000, processed 1116963 words, keeping 37761 word types\n",
      "2018-03-07 19:03:08,699 : INFO : PROGRESS: at sentence #60000, processed 1338404 words, keeping 40723 word types\n",
      "2018-03-07 19:03:08,752 : INFO : PROGRESS: at sentence #70000, processed 1561580 words, keeping 43333 word types\n",
      "2018-03-07 19:03:08,798 : INFO : PROGRESS: at sentence #80000, processed 1780887 words, keeping 45714 word types\n",
      "2018-03-07 19:03:08,853 : INFO : PROGRESS: at sentence #90000, processed 2004996 words, keeping 48135 word types\n",
      "2018-03-07 19:03:08,899 : INFO : PROGRESS: at sentence #100000, processed 2226966 words, keeping 50207 word types\n",
      "2018-03-07 19:03:08,951 : INFO : PROGRESS: at sentence #110000, processed 2446580 words, keeping 52081 word types\n",
      "2018-03-07 19:03:09,008 : INFO : PROGRESS: at sentence #120000, processed 2668775 words, keeping 54119 word types\n",
      "2018-03-07 19:03:09,064 : INFO : PROGRESS: at sentence #130000, processed 2894303 words, keeping 55847 word types\n",
      "2018-03-07 19:03:09,103 : INFO : PROGRESS: at sentence #140000, processed 3107005 words, keeping 57346 word types\n",
      "2018-03-07 19:03:09,152 : INFO : PROGRESS: at sentence #150000, processed 3332627 words, keeping 59055 word types\n",
      "2018-03-07 19:03:09,200 : INFO : PROGRESS: at sentence #160000, processed 3555315 words, keeping 60617 word types\n",
      "2018-03-07 19:03:09,245 : INFO : PROGRESS: at sentence #170000, processed 3778655 words, keeping 62077 word types\n",
      "2018-03-07 19:03:09,289 : INFO : PROGRESS: at sentence #180000, processed 3999236 words, keeping 63496 word types\n",
      "2018-03-07 19:03:09,335 : INFO : PROGRESS: at sentence #190000, processed 4224449 words, keeping 64794 word types\n",
      "2018-03-07 19:03:09,382 : INFO : PROGRESS: at sentence #200000, processed 4448603 words, keeping 66087 word types\n",
      "2018-03-07 19:03:09,427 : INFO : PROGRESS: at sentence #210000, processed 4669967 words, keeping 67390 word types\n",
      "2018-03-07 19:03:09,475 : INFO : PROGRESS: at sentence #220000, processed 4894968 words, keeping 68697 word types\n",
      "2018-03-07 19:03:09,519 : INFO : PROGRESS: at sentence #230000, processed 5117545 words, keeping 69958 word types\n",
      "2018-03-07 19:03:09,566 : INFO : PROGRESS: at sentence #240000, processed 5345050 words, keeping 71167 word types\n",
      "2018-03-07 19:03:09,613 : INFO : PROGRESS: at sentence #250000, processed 5559165 words, keeping 72351 word types\n",
      "2018-03-07 19:03:09,663 : INFO : PROGRESS: at sentence #260000, processed 5779146 words, keeping 73478 word types\n",
      "2018-03-07 19:03:09,709 : INFO : PROGRESS: at sentence #270000, processed 6000435 words, keeping 74767 word types\n",
      "2018-03-07 19:03:09,759 : INFO : PROGRESS: at sentence #280000, processed 6226314 words, keeping 76369 word types\n",
      "2018-03-07 19:03:09,809 : INFO : PROGRESS: at sentence #290000, processed 6449474 words, keeping 77839 word types\n",
      "2018-03-07 19:03:09,869 : INFO : PROGRESS: at sentence #300000, processed 6674077 words, keeping 79171 word types\n",
      "2018-03-07 19:03:09,910 : INFO : PROGRESS: at sentence #310000, processed 6899391 words, keeping 80480 word types\n",
      "2018-03-07 19:03:09,973 : INFO : PROGRESS: at sentence #320000, processed 7124278 words, keeping 81808 word types\n",
      "2018-03-07 19:03:10,026 : INFO : PROGRESS: at sentence #330000, processed 7346021 words, keeping 83030 word types\n",
      "2018-03-07 19:03:10,079 : INFO : PROGRESS: at sentence #340000, processed 7575533 words, keeping 84280 word types\n",
      "2018-03-07 19:03:10,137 : INFO : PROGRESS: at sentence #350000, processed 7798803 words, keeping 85425 word types\n",
      "2018-03-07 19:03:10,185 : INFO : PROGRESS: at sentence #360000, processed 8019427 words, keeping 86596 word types\n",
      "2018-03-07 19:03:10,242 : INFO : PROGRESS: at sentence #370000, processed 8246619 words, keeping 87708 word types\n",
      "2018-03-07 19:03:10,292 : INFO : PROGRESS: at sentence #380000, processed 8471766 words, keeping 88878 word types\n",
      "2018-03-07 19:03:10,343 : INFO : PROGRESS: at sentence #390000, processed 8701497 words, keeping 89907 word types\n",
      "2018-03-07 19:03:10,392 : INFO : PROGRESS: at sentence #400000, processed 8924446 words, keeping 90916 word types\n",
      "2018-03-07 19:03:10,441 : INFO : PROGRESS: at sentence #410000, processed 9145796 words, keeping 91880 word types\n",
      "2018-03-07 19:03:10,492 : INFO : PROGRESS: at sentence #420000, processed 9366876 words, keeping 92912 word types\n",
      "2018-03-07 19:03:10,539 : INFO : PROGRESS: at sentence #430000, processed 9594413 words, keeping 93932 word types\n",
      "2018-03-07 19:03:10,596 : INFO : PROGRESS: at sentence #440000, processed 9821166 words, keeping 94906 word types\n",
      "2018-03-07 19:03:10,652 : INFO : PROGRESS: at sentence #450000, processed 10044928 words, keeping 96036 word types\n",
      "2018-03-07 19:03:10,695 : INFO : PROGRESS: at sentence #460000, processed 10277688 words, keeping 97088 word types\n",
      "2018-03-07 19:03:10,758 : INFO : PROGRESS: at sentence #470000, processed 10505613 words, keeping 97933 word types\n",
      "2018-03-07 19:03:10,805 : INFO : PROGRESS: at sentence #480000, processed 10725997 words, keeping 98862 word types\n",
      "2018-03-07 19:03:10,865 : INFO : PROGRESS: at sentence #490000, processed 10952741 words, keeping 99871 word types\n",
      "2018-03-07 19:03:10,919 : INFO : PROGRESS: at sentence #500000, processed 11174397 words, keeping 100765 word types\n",
      "2018-03-07 19:03:10,971 : INFO : PROGRESS: at sentence #510000, processed 11399672 words, keeping 101699 word types\n",
      "2018-03-07 19:03:11,029 : INFO : PROGRESS: at sentence #520000, processed 11623020 words, keeping 102598 word types\n",
      "2018-03-07 19:03:11,087 : INFO : PROGRESS: at sentence #530000, processed 11847418 words, keeping 103400 word types\n",
      "2018-03-07 19:03:11,137 : INFO : PROGRESS: at sentence #540000, processed 12072033 words, keeping 104265 word types\n",
      "2018-03-07 19:03:11,191 : INFO : PROGRESS: at sentence #550000, processed 12297571 words, keeping 105133 word types\n",
      "2018-03-07 19:03:11,248 : INFO : PROGRESS: at sentence #560000, processed 12518861 words, keeping 105997 word types\n",
      "2018-03-07 19:03:11,292 : INFO : PROGRESS: at sentence #570000, processed 12747916 words, keeping 106787 word types\n",
      "2018-03-07 19:03:11,348 : INFO : PROGRESS: at sentence #580000, processed 12969412 words, keeping 107665 word types\n",
      "2018-03-07 19:03:11,403 : INFO : PROGRESS: at sentence #590000, processed 13194937 words, keeping 108501 word types\n",
      "2018-03-07 19:03:11,450 : INFO : PROGRESS: at sentence #600000, processed 13417135 words, keeping 109218 word types\n",
      "2018-03-07 19:03:11,506 : INFO : PROGRESS: at sentence #610000, processed 13638158 words, keeping 110092 word types\n",
      "2018-03-07 19:03:11,557 : INFO : PROGRESS: at sentence #620000, processed 13864483 words, keeping 110837 word types\n",
      "2018-03-07 19:03:11,613 : INFO : PROGRESS: at sentence #630000, processed 14088769 words, keeping 111610 word types\n",
      "2018-03-07 19:03:11,663 : INFO : PROGRESS: at sentence #640000, processed 14309552 words, keeping 112416 word types\n",
      "2018-03-07 19:03:11,723 : INFO : PROGRESS: at sentence #650000, processed 14535308 words, keeping 113196 word types\n",
      "2018-03-07 19:03:11,765 : INFO : PROGRESS: at sentence #660000, processed 14758098 words, keeping 113945 word types\n",
      "2018-03-07 19:03:11,822 : INFO : PROGRESS: at sentence #670000, processed 14981482 words, keeping 114643 word types\n",
      "2018-03-07 19:03:11,877 : INFO : PROGRESS: at sentence #680000, processed 15206314 words, keeping 115354 word types\n",
      "2018-03-07 19:03:11,930 : INFO : PROGRESS: at sentence #690000, processed 15428507 words, keeping 116131 word types\n",
      "2018-03-07 19:03:11,983 : INFO : PROGRESS: at sentence #700000, processed 15657213 words, keeping 116943 word types\n",
      "2018-03-07 19:03:12,054 : INFO : PROGRESS: at sentence #710000, processed 15880202 words, keeping 117596 word types\n",
      "2018-03-07 19:03:12,115 : INFO : PROGRESS: at sentence #720000, processed 16105489 words, keeping 118221 word types\n",
      "2018-03-07 19:03:12,180 : INFO : PROGRESS: at sentence #730000, processed 16331870 words, keeping 118954 word types\n",
      "2018-03-07 19:03:12,239 : INFO : PROGRESS: at sentence #740000, processed 16552903 words, keeping 119668 word types\n",
      "2018-03-07 19:03:12,294 : INFO : PROGRESS: at sentence #750000, processed 16771230 words, keeping 120295 word types\n"
     ]
    },
    {
     "name": "stderr",
     "output_type": "stream",
     "text": [
      "2018-03-07 19:03:12,353 : INFO : PROGRESS: at sentence #760000, processed 16990622 words, keeping 120930 word types\n",
      "2018-03-07 19:03:12,401 : INFO : PROGRESS: at sentence #770000, processed 17217759 words, keeping 121703 word types\n",
      "2018-03-07 19:03:12,449 : INFO : PROGRESS: at sentence #780000, processed 17447905 words, keeping 122402 word types\n",
      "2018-03-07 19:03:12,490 : INFO : PROGRESS: at sentence #790000, processed 17674981 words, keeping 123066 word types\n",
      "2018-03-07 19:03:12,516 : INFO : collected 123504 word types from a corpus of 17798082 raw words and 795538 sentences\n",
      "2018-03-07 19:03:12,517 : INFO : Loading a fresh vocabulary\n",
      "2018-03-07 19:03:12,605 : INFO : min_count=40 retains 16490 unique words (13% of original 123504, drops 107014)\n",
      "2018-03-07 19:03:12,606 : INFO : min_count=40 leaves 17238940 word corpus (96% of original 17798082, drops 559142)\n",
      "2018-03-07 19:03:12,655 : INFO : deleting the raw counts dictionary of 123504 items\n",
      "2018-03-07 19:03:12,660 : INFO : sample=0.001 downsamples 48 most-common words\n",
      "2018-03-07 19:03:12,661 : INFO : downsampling leaves estimated 12749658 word corpus (74.0% of prior 17238940)\n",
      "2018-03-07 19:03:12,724 : INFO : estimated required memory for 16490 words and 300 dimensions: 47821000 bytes\n",
      "2018-03-07 19:03:12,725 : INFO : resetting layer weights\n",
      "2018-03-07 19:03:12,941 : INFO : training model with 4 workers on 16490 vocabulary and 300 features, using sg=0 hs=0 sample=0.001 negative=5 window=10\n",
      "2018-03-07 19:03:13,952 : INFO : EPOCH 1 - PROGRESS: at 4.87% examples, 620232 words/s, in_qsize 7, out_qsize 0\n",
      "2018-03-07 19:03:14,974 : INFO : EPOCH 1 - PROGRESS: at 8.11% examples, 508196 words/s, in_qsize 7, out_qsize 0\n",
      "2018-03-07 19:03:15,978 : INFO : EPOCH 1 - PROGRESS: at 9.75% examples, 408339 words/s, in_qsize 7, out_qsize 0\n",
      "2018-03-07 19:03:16,987 : INFO : EPOCH 1 - PROGRESS: at 14.67% examples, 460558 words/s, in_qsize 7, out_qsize 0\n",
      "2018-03-07 19:03:18,009 : INFO : EPOCH 1 - PROGRESS: at 18.30% examples, 457931 words/s, in_qsize 7, out_qsize 0\n",
      "2018-03-07 19:03:19,021 : INFO : EPOCH 1 - PROGRESS: at 20.00% examples, 416832 words/s, in_qsize 8, out_qsize 0\n",
      "2018-03-07 19:03:20,036 : INFO : EPOCH 1 - PROGRESS: at 24.55% examples, 438967 words/s, in_qsize 6, out_qsize 1\n",
      "2018-03-07 19:03:21,057 : INFO : EPOCH 1 - PROGRESS: at 28.48% examples, 445383 words/s, in_qsize 7, out_qsize 0\n",
      "2018-03-07 19:03:22,085 : INFO : EPOCH 1 - PROGRESS: at 30.20% examples, 419485 words/s, in_qsize 7, out_qsize 0\n",
      "2018-03-07 19:03:23,085 : INFO : EPOCH 1 - PROGRESS: at 34.49% examples, 430926 words/s, in_qsize 7, out_qsize 0\n",
      "2018-03-07 19:03:24,098 : INFO : EPOCH 1 - PROGRESS: at 38.68% examples, 439865 words/s, in_qsize 7, out_qsize 0\n",
      "2018-03-07 19:03:25,135 : INFO : EPOCH 1 - PROGRESS: at 40.35% examples, 420052 words/s, in_qsize 7, out_qsize 0\n",
      "2018-03-07 19:03:26,148 : INFO : EPOCH 1 - PROGRESS: at 44.32% examples, 426260 words/s, in_qsize 7, out_qsize 0\n",
      "2018-03-07 19:03:27,150 : INFO : EPOCH 1 - PROGRESS: at 48.77% examples, 436464 words/s, in_qsize 8, out_qsize 0\n",
      "2018-03-07 19:03:28,207 : INFO : EPOCH 1 - PROGRESS: at 50.45% examples, 420294 words/s, in_qsize 8, out_qsize 0\n",
      "2018-03-07 19:03:29,211 : INFO : EPOCH 1 - PROGRESS: at 54.15% examples, 423355 words/s, in_qsize 7, out_qsize 0\n",
      "2018-03-07 19:03:30,239 : INFO : EPOCH 1 - PROGRESS: at 58.90% examples, 433734 words/s, in_qsize 7, out_qsize 0\n",
      "2018-03-07 19:03:31,284 : INFO : EPOCH 1 - PROGRESS: at 60.58% examples, 420695 words/s, in_qsize 7, out_qsize 0\n",
      "2018-03-07 19:03:32,294 : INFO : EPOCH 1 - PROGRESS: at 64.05% examples, 421626 words/s, in_qsize 7, out_qsize 0\n",
      "2018-03-07 19:03:33,299 : INFO : EPOCH 1 - PROGRESS: at 68.98% examples, 431755 words/s, in_qsize 7, out_qsize 0\n",
      "2018-03-07 19:03:34,309 : INFO : EPOCH 1 - PROGRESS: at 70.71% examples, 421719 words/s, in_qsize 7, out_qsize 0\n",
      "2018-03-07 19:03:35,310 : INFO : EPOCH 1 - PROGRESS: at 73.68% examples, 419785 words/s, in_qsize 7, out_qsize 0\n",
      "2018-03-07 19:03:36,323 : INFO : EPOCH 1 - PROGRESS: at 78.61% examples, 428509 words/s, in_qsize 7, out_qsize 0\n",
      "2018-03-07 19:03:37,341 : INFO : EPOCH 1 - PROGRESS: at 80.76% examples, 421760 words/s, in_qsize 7, out_qsize 0\n",
      "2018-03-07 19:03:38,343 : INFO : EPOCH 1 - PROGRESS: at 83.39% examples, 418346 words/s, in_qsize 7, out_qsize 0\n",
      "2018-03-07 19:03:39,355 : INFO : EPOCH 1 - PROGRESS: at 88.34% examples, 426410 words/s, in_qsize 7, out_qsize 0\n",
      "2018-03-07 19:03:40,376 : INFO : EPOCH 1 - PROGRESS: at 90.87% examples, 422277 words/s, in_qsize 7, out_qsize 0\n",
      "2018-03-07 19:03:41,381 : INFO : EPOCH 1 - PROGRESS: at 93.18% examples, 417646 words/s, in_qsize 7, out_qsize 0\n",
      "2018-03-07 19:03:42,387 : INFO : EPOCH 1 - PROGRESS: at 98.11% examples, 424755 words/s, in_qsize 7, out_qsize 0\n",
      "2018-03-07 19:03:42,742 : INFO : worker thread finished; awaiting finish of 3 more threads\n",
      "2018-03-07 19:03:42,753 : INFO : worker thread finished; awaiting finish of 2 more threads\n",
      "2018-03-07 19:03:42,773 : INFO : worker thread finished; awaiting finish of 1 more threads\n",
      "2018-03-07 19:03:42,793 : INFO : worker thread finished; awaiting finish of 0 more threads\n",
      "2018-03-07 19:03:42,795 : INFO : EPOCH - 1 : training on 17798082 raw words (12746827 effective words) took 29.8s, 427073 effective words/s\n",
      "2018-03-07 19:03:43,828 : INFO : EPOCH 2 - PROGRESS: at 1.56% examples, 196901 words/s, in_qsize 7, out_qsize 0\n",
      "2018-03-07 19:03:44,829 : INFO : EPOCH 2 - PROGRESS: at 4.81% examples, 304890 words/s, in_qsize 7, out_qsize 0\n",
      "2018-03-07 19:03:45,833 : INFO : EPOCH 2 - PROGRESS: at 9.75% examples, 409387 words/s, in_qsize 7, out_qsize 0\n",
      "2018-03-07 19:03:46,839 : INFO : EPOCH 2 - PROGRESS: at 11.61% examples, 365762 words/s, in_qsize 7, out_qsize 0\n",
      "2018-03-07 19:03:47,859 : INFO : EPOCH 2 - PROGRESS: at 13.94% examples, 350070 words/s, in_qsize 7, out_qsize 0\n",
      "2018-03-07 19:03:48,875 : INFO : EPOCH 2 - PROGRESS: at 17.41% examples, 363385 words/s, in_qsize 7, out_qsize 0\n",
      "2018-03-07 19:03:49,892 : INFO : EPOCH 2 - PROGRESS: at 20.84% examples, 372772 words/s, in_qsize 7, out_qsize 0\n",
      "2018-03-07 19:03:50,901 : INFO : EPOCH 2 - PROGRESS: at 25.45% examples, 398734 words/s, in_qsize 7, out_qsize 0\n",
      "2018-03-07 19:03:51,911 : INFO : EPOCH 2 - PROGRESS: at 29.04% examples, 404677 words/s, in_qsize 7, out_qsize 0\n",
      "2018-03-07 19:03:52,919 : INFO : EPOCH 2 - PROGRESS: at 32.75% examples, 410252 words/s, in_qsize 7, out_qsize 0\n",
      "2018-03-07 19:03:53,929 : INFO : EPOCH 2 - PROGRESS: at 36.34% examples, 414096 words/s, in_qsize 7, out_qsize 0\n",
      "2018-03-07 19:03:54,953 : INFO : EPOCH 2 - PROGRESS: at 39.90% examples, 416898 words/s, in_qsize 7, out_qsize 0\n",
      "2018-03-07 19:03:55,959 : INFO : EPOCH 2 - PROGRESS: at 44.44% examples, 429087 words/s, in_qsize 7, out_qsize 0\n",
      "2018-03-07 19:03:56,985 : INFO : EPOCH 2 - PROGRESS: at 49.04% examples, 439891 words/s, in_qsize 7, out_qsize 0\n",
      "2018-03-07 19:03:58,077 : INFO : EPOCH 2 - PROGRESS: at 50.74% examples, 422481 words/s, in_qsize 7, out_qsize 0\n",
      "2018-03-07 19:03:59,087 : INFO : EPOCH 2 - PROGRESS: at 54.49% examples, 425722 words/s, in_qsize 8, out_qsize 1\n",
      "2018-03-07 19:04:00,131 : INFO : EPOCH 2 - PROGRESS: at 59.17% examples, 435108 words/s, in_qsize 7, out_qsize 0\n",
      "2018-03-07 19:04:01,149 : INFO : EPOCH 2 - PROGRESS: at 60.80% examples, 422267 words/s, in_qsize 7, out_qsize 0\n",
      "2018-03-07 19:04:02,153 : INFO : EPOCH 2 - PROGRESS: at 64.22% examples, 422902 words/s, in_qsize 7, out_qsize 0\n",
      "2018-03-07 19:04:03,154 : INFO : EPOCH 2 - PROGRESS: at 68.99% examples, 432000 words/s, in_qsize 7, out_qsize 0\n",
      "2018-03-07 19:04:04,159 : INFO : EPOCH 2 - PROGRESS: at 70.77% examples, 422391 words/s, in_qsize 7, out_qsize 0\n",
      "2018-03-07 19:04:05,168 : INFO : EPOCH 2 - PROGRESS: at 73.74% examples, 420315 words/s, in_qsize 7, out_qsize 0\n",
      "2018-03-07 19:04:06,169 : INFO : EPOCH 2 - PROGRESS: at 78.61% examples, 428912 words/s, in_qsize 7, out_qsize 0\n",
      "2018-03-07 19:04:07,237 : INFO : EPOCH 2 - PROGRESS: at 80.87% examples, 421887 words/s, in_qsize 7, out_qsize 0\n",
      "2018-03-07 19:04:08,249 : INFO : EPOCH 2 - PROGRESS: at 83.62% examples, 418884 words/s, in_qsize 7, out_qsize 0\n",
      "2018-03-07 19:04:09,261 : INFO : EPOCH 2 - PROGRESS: at 88.40% examples, 426118 words/s, in_qsize 8, out_qsize 1\n",
      "2018-03-07 19:04:10,331 : INFO : EPOCH 2 - PROGRESS: at 90.87% examples, 420982 words/s, in_qsize 7, out_qsize 0\n"
     ]
    },
    {
     "name": "stderr",
     "output_type": "stream",
     "text": [
      "2018-03-07 19:04:11,342 : INFO : EPOCH 2 - PROGRESS: at 92.56% examples, 413602 words/s, in_qsize 7, out_qsize 0\n",
      "2018-03-07 19:04:12,362 : INFO : EPOCH 2 - PROGRESS: at 94.21% examples, 406341 words/s, in_qsize 7, out_qsize 0\n",
      "2018-03-07 19:04:13,368 : INFO : EPOCH 2 - PROGRESS: at 98.17% examples, 409583 words/s, in_qsize 8, out_qsize 1\n",
      "2018-03-07 19:04:13,699 : INFO : worker thread finished; awaiting finish of 3 more threads\n",
      "2018-03-07 19:04:13,717 : INFO : worker thread finished; awaiting finish of 2 more threads\n",
      "2018-03-07 19:04:13,725 : INFO : worker thread finished; awaiting finish of 1 more threads\n",
      "2018-03-07 19:04:13,730 : INFO : worker thread finished; awaiting finish of 0 more threads\n",
      "2018-03-07 19:04:13,731 : INFO : EPOCH - 2 : training on 17798082 raw words (12750757 effective words) took 30.9s, 412393 effective words/s\n",
      "2018-03-07 19:04:14,757 : INFO : EPOCH 3 - PROGRESS: at 3.08% examples, 386527 words/s, in_qsize 7, out_qsize 0\n",
      "2018-03-07 19:04:15,787 : INFO : EPOCH 3 - PROGRESS: at 4.75% examples, 296892 words/s, in_qsize 7, out_qsize 0\n",
      "2018-03-07 19:04:16,791 : INFO : EPOCH 3 - PROGRESS: at 9.69% examples, 402986 words/s, in_qsize 7, out_qsize 0\n",
      "2018-03-07 19:04:17,824 : INFO : EPOCH 3 - PROGRESS: at 13.25% examples, 411465 words/s, in_qsize 7, out_qsize 0\n",
      "2018-03-07 19:04:18,866 : INFO : EPOCH 3 - PROGRESS: at 14.95% examples, 369604 words/s, in_qsize 7, out_qsize 0\n",
      "2018-03-07 19:04:19,869 : INFO : EPOCH 3 - PROGRESS: at 19.65% examples, 405821 words/s, in_qsize 7, out_qsize 0\n",
      "2018-03-07 19:04:20,880 : INFO : EPOCH 3 - PROGRESS: at 23.43% examples, 415599 words/s, in_qsize 7, out_qsize 0\n",
      "2018-03-07 19:04:21,885 : INFO : EPOCH 3 - PROGRESS: at 25.00% examples, 388919 words/s, in_qsize 7, out_qsize 0\n",
      "2018-03-07 19:04:22,894 : INFO : EPOCH 3 - PROGRESS: at 29.31% examples, 406131 words/s, in_qsize 7, out_qsize 0\n",
      "2018-03-07 19:04:23,952 : INFO : EPOCH 3 - PROGRESS: at 33.61% examples, 416521 words/s, in_qsize 7, out_qsize 0\n",
      "2018-03-07 19:04:24,977 : INFO : EPOCH 3 - PROGRESS: at 35.27% examples, 397608 words/s, in_qsize 8, out_qsize 0\n",
      "2018-03-07 19:04:25,985 : INFO : EPOCH 3 - PROGRESS: at 39.36% examples, 407540 words/s, in_qsize 7, out_qsize 0\n",
      "2018-03-07 19:04:26,992 : INFO : EPOCH 3 - PROGRESS: at 43.58% examples, 417637 words/s, in_qsize 7, out_qsize 0\n",
      "2018-03-07 19:04:28,020 : INFO : EPOCH 3 - PROGRESS: at 45.23% examples, 402067 words/s, in_qsize 7, out_qsize 0\n",
      "2018-03-07 19:04:29,023 : INFO : EPOCH 3 - PROGRESS: at 48.87% examples, 406536 words/s, in_qsize 7, out_qsize 0\n",
      "2018-03-07 19:04:30,052 : INFO : EPOCH 3 - PROGRESS: at 53.56% examples, 417274 words/s, in_qsize 7, out_qsize 0\n",
      "2018-03-07 19:04:31,094 : INFO : EPOCH 3 - PROGRESS: at 55.15% examples, 404158 words/s, in_qsize 7, out_qsize 0\n",
      "2018-03-07 19:04:32,097 : INFO : EPOCH 3 - PROGRESS: at 57.79% examples, 400735 words/s, in_qsize 7, out_qsize 0\n",
      "2018-03-07 19:04:33,105 : INFO : EPOCH 3 - PROGRESS: at 61.13% examples, 402058 words/s, in_qsize 7, out_qsize 0\n",
      "2018-03-07 19:04:34,110 : INFO : EPOCH 3 - PROGRESS: at 64.83% examples, 405401 words/s, in_qsize 7, out_qsize 0\n",
      "2018-03-07 19:04:35,172 : INFO : EPOCH 3 - PROGRESS: at 68.44% examples, 406678 words/s, in_qsize 8, out_qsize 0\n",
      "2018-03-07 19:04:36,207 : INFO : EPOCH 3 - PROGRESS: at 70.16% examples, 397818 words/s, in_qsize 7, out_qsize 0\n",
      "2018-03-07 19:04:37,220 : INFO : EPOCH 3 - PROGRESS: at 74.96% examples, 406853 words/s, in_qsize 7, out_qsize 0\n",
      "2018-03-07 19:04:38,223 : INFO : EPOCH 3 - PROGRESS: at 78.55% examples, 408881 words/s, in_qsize 7, out_qsize 0\n",
      "2018-03-07 19:04:39,242 : INFO : EPOCH 3 - PROGRESS: at 80.20% examples, 400661 words/s, in_qsize 8, out_qsize 0\n",
      "2018-03-07 19:04:40,249 : INFO : EPOCH 3 - PROGRESS: at 84.67% examples, 407031 words/s, in_qsize 7, out_qsize 0\n",
      "2018-03-07 19:04:41,253 : INFO : EPOCH 3 - PROGRESS: at 88.58% examples, 410369 words/s, in_qsize 7, out_qsize 0\n",
      "2018-03-07 19:04:42,261 : INFO : EPOCH 3 - PROGRESS: at 90.18% examples, 403150 words/s, in_qsize 7, out_qsize 0\n",
      "2018-03-07 19:04:43,266 : INFO : EPOCH 3 - PROGRESS: at 94.27% examples, 406852 words/s, in_qsize 7, out_qsize 0\n",
      "2018-03-07 19:04:44,317 : INFO : EPOCH 3 - PROGRESS: at 98.61% examples, 411136 words/s, in_qsize 7, out_qsize 0\n",
      "2018-03-07 19:04:45,074 : INFO : worker thread finished; awaiting finish of 3 more threads\n",
      "2018-03-07 19:04:45,079 : INFO : worker thread finished; awaiting finish of 2 more threads\n",
      "2018-03-07 19:04:45,121 : INFO : worker thread finished; awaiting finish of 1 more threads\n",
      "2018-03-07 19:04:45,152 : INFO : worker thread finished; awaiting finish of 0 more threads\n",
      "2018-03-07 19:04:45,155 : INFO : EPOCH - 3 : training on 17798082 raw words (12749538 effective words) took 31.4s, 405829 effective words/s\n",
      "2018-03-07 19:04:46,173 : INFO : EPOCH 4 - PROGRESS: at 3.08% examples, 392986 words/s, in_qsize 7, out_qsize 0\n",
      "2018-03-07 19:04:47,178 : INFO : EPOCH 4 - PROGRESS: at 8.00% examples, 505849 words/s, in_qsize 7, out_qsize 0\n",
      "2018-03-07 19:04:48,198 : INFO : EPOCH 4 - PROGRESS: at 9.98% examples, 418053 words/s, in_qsize 7, out_qsize 0\n",
      "2018-03-07 19:04:49,200 : INFO : EPOCH 4 - PROGRESS: at 12.80% examples, 402986 words/s, in_qsize 7, out_qsize 0\n",
      "2018-03-07 19:04:50,224 : INFO : EPOCH 4 - PROGRESS: at 17.69% examples, 443065 words/s, in_qsize 7, out_qsize 0\n",
      "2018-03-07 19:04:51,235 : INFO : EPOCH 4 - PROGRESS: at 19.71% examples, 411553 words/s, in_qsize 7, out_qsize 0\n",
      "2018-03-07 19:04:52,236 : INFO : EPOCH 4 - PROGRESS: at 22.08% examples, 395754 words/s, in_qsize 7, out_qsize 0\n",
      "2018-03-07 19:04:53,241 : INFO : EPOCH 4 - PROGRESS: at 26.91% examples, 422684 words/s, in_qsize 7, out_qsize 0\n",
      "2018-03-07 19:04:54,256 : INFO : EPOCH 4 - PROGRESS: at 29.53% examples, 412441 words/s, in_qsize 7, out_qsize 0\n",
      "2018-03-07 19:04:55,277 : INFO : EPOCH 4 - PROGRESS: at 31.67% examples, 396937 words/s, in_qsize 7, out_qsize 0\n",
      "2018-03-07 19:04:56,278 : INFO : EPOCH 4 - PROGRESS: at 36.62% examples, 417779 words/s, in_qsize 7, out_qsize 0\n",
      "2018-03-07 19:04:57,278 : INFO : EPOCH 4 - PROGRESS: at 39.59% examples, 414586 words/s, in_qsize 7, out_qsize 0\n",
      "2018-03-07 19:04:58,280 : INFO : EPOCH 4 - PROGRESS: at 41.20% examples, 398721 words/s, in_qsize 7, out_qsize 0\n",
      "2018-03-07 19:04:59,295 : INFO : EPOCH 4 - PROGRESS: at 46.11% examples, 414612 words/s, in_qsize 7, out_qsize 0\n",
      "2018-03-07 19:05:00,334 : INFO : EPOCH 4 - PROGRESS: at 49.55% examples, 415445 words/s, in_qsize 7, out_qsize 0\n",
      "2018-03-07 19:05:01,342 : INFO : EPOCH 4 - PROGRESS: at 51.25% examples, 402839 words/s, in_qsize 7, out_qsize 0\n",
      "2018-03-07 19:05:02,357 : INFO : EPOCH 4 - PROGRESS: at 55.89% examples, 413540 words/s, in_qsize 7, out_qsize 0\n",
      "2018-03-07 19:05:03,382 : INFO : EPOCH 4 - PROGRESS: at 59.51% examples, 416161 words/s, in_qsize 8, out_qsize 0\n",
      "2018-03-07 19:05:04,407 : INFO : EPOCH 4 - PROGRESS: at 61.18% examples, 405127 words/s, in_qsize 7, out_qsize 0\n",
      "2018-03-07 19:05:05,418 : INFO : EPOCH 4 - PROGRESS: at 65.57% examples, 412448 words/s, in_qsize 7, out_qsize 0\n",
      "2018-03-07 19:05:06,433 : INFO : EPOCH 4 - PROGRESS: at 69.70% examples, 417672 words/s, in_qsize 7, out_qsize 0\n",
      "2018-03-07 19:05:07,436 : INFO : EPOCH 4 - PROGRESS: at 73.11% examples, 418458 words/s, in_qsize 7, out_qsize 0\n",
      "2018-03-07 19:05:08,450 : INFO : EPOCH 4 - PROGRESS: at 76.38% examples, 418041 words/s, in_qsize 7, out_qsize 0\n",
      "2018-03-07 19:05:09,461 : INFO : EPOCH 4 - PROGRESS: at 79.80% examples, 418580 words/s, in_qsize 7, out_qsize 0\n",
      "2018-03-07 19:05:10,474 : INFO : EPOCH 4 - PROGRESS: at 83.39% examples, 419922 words/s, in_qsize 7, out_qsize 0\n",
      "2018-03-07 19:05:11,493 : INFO : EPOCH 4 - PROGRESS: at 86.97% examples, 421051 words/s, in_qsize 7, out_qsize 0\n",
      "2018-03-07 19:05:12,507 : INFO : EPOCH 4 - PROGRESS: at 90.54% examples, 422186 words/s, in_qsize 7, out_qsize 0\n",
      "2018-03-07 19:05:13,509 : INFO : EPOCH 4 - PROGRESS: at 94.21% examples, 423670 words/s, in_qsize 7, out_qsize 0\n",
      "2018-03-07 19:05:14,529 : INFO : EPOCH 4 - PROGRESS: at 97.72% examples, 424293 words/s, in_qsize 7, out_qsize 0\n",
      "2018-03-07 19:05:15,116 : INFO : worker thread finished; awaiting finish of 3 more threads\n",
      "2018-03-07 19:05:15,132 : INFO : worker thread finished; awaiting finish of 2 more threads\n",
      "2018-03-07 19:05:15,140 : INFO : worker thread finished; awaiting finish of 1 more threads\n"
     ]
    },
    {
     "name": "stderr",
     "output_type": "stream",
     "text": [
      "2018-03-07 19:05:15,147 : INFO : worker thread finished; awaiting finish of 0 more threads\n",
      "2018-03-07 19:05:15,149 : INFO : EPOCH - 4 : training on 17798082 raw words (12748492 effective words) took 30.0s, 425291 effective words/s\n",
      "2018-03-07 19:05:16,158 : INFO : EPOCH 5 - PROGRESS: at 3.42% examples, 435860 words/s, in_qsize 7, out_qsize 0\n",
      "2018-03-07 19:05:17,165 : INFO : EPOCH 5 - PROGRESS: at 7.02% examples, 444599 words/s, in_qsize 7, out_qsize 0\n",
      "2018-03-07 19:05:18,176 : INFO : EPOCH 5 - PROGRESS: at 10.70% examples, 449859 words/s, in_qsize 7, out_qsize 0\n",
      "2018-03-07 19:05:19,208 : INFO : EPOCH 5 - PROGRESS: at 14.39% examples, 449969 words/s, in_qsize 7, out_qsize 0\n",
      "2018-03-07 19:05:20,217 : INFO : EPOCH 5 - PROGRESS: at 18.08% examples, 452028 words/s, in_qsize 7, out_qsize 0\n",
      "2018-03-07 19:05:21,227 : INFO : EPOCH 5 - PROGRESS: at 21.69% examples, 452375 words/s, in_qsize 7, out_qsize 0\n",
      "2018-03-07 19:05:22,233 : INFO : EPOCH 5 - PROGRESS: at 25.28% examples, 452752 words/s, in_qsize 7, out_qsize 0\n",
      "2018-03-07 19:05:23,242 : INFO : EPOCH 5 - PROGRESS: at 28.82% examples, 451937 words/s, in_qsize 7, out_qsize 0\n",
      "2018-03-07 19:05:24,259 : INFO : EPOCH 5 - PROGRESS: at 32.51% examples, 452417 words/s, in_qsize 7, out_qsize 0\n",
      "2018-03-07 19:05:25,265 : INFO : EPOCH 5 - PROGRESS: at 36.11% examples, 452666 words/s, in_qsize 7, out_qsize 0\n",
      "2018-03-07 19:05:26,272 : INFO : EPOCH 5 - PROGRESS: at 39.64% examples, 452229 words/s, in_qsize 7, out_qsize 0\n",
      "2018-03-07 19:05:27,279 : INFO : EPOCH 5 - PROGRESS: at 43.25% examples, 453001 words/s, in_qsize 7, out_qsize 0\n",
      "2018-03-07 19:05:28,299 : INFO : EPOCH 5 - PROGRESS: at 46.83% examples, 452633 words/s, in_qsize 7, out_qsize 0\n",
      "2018-03-07 19:05:29,320 : INFO : EPOCH 5 - PROGRESS: at 50.40% examples, 452358 words/s, in_qsize 7, out_qsize 0\n",
      "2018-03-07 19:05:30,339 : INFO : EPOCH 5 - PROGRESS: at 54.10% examples, 453086 words/s, in_qsize 7, out_qsize 0\n",
      "2018-03-07 19:05:31,355 : INFO : EPOCH 5 - PROGRESS: at 57.63% examples, 452852 words/s, in_qsize 7, out_qsize 0\n",
      "2018-03-07 19:05:32,363 : INFO : EPOCH 5 - PROGRESS: at 61.24% examples, 453336 words/s, in_qsize 7, out_qsize 0\n",
      "2018-03-07 19:05:33,373 : INFO : EPOCH 5 - PROGRESS: at 64.83% examples, 453343 words/s, in_qsize 7, out_qsize 0\n",
      "2018-03-07 19:05:34,389 : INFO : EPOCH 5 - PROGRESS: at 68.43% examples, 453197 words/s, in_qsize 7, out_qsize 0\n",
      "2018-03-07 19:05:35,407 : INFO : EPOCH 5 - PROGRESS: at 71.99% examples, 453048 words/s, in_qsize 7, out_qsize 0\n",
      "2018-03-07 19:05:36,418 : INFO : EPOCH 5 - PROGRESS: at 75.64% examples, 453390 words/s, in_qsize 7, out_qsize 0\n",
      "2018-03-07 19:05:37,445 : INFO : EPOCH 5 - PROGRESS: at 79.29% examples, 453347 words/s, in_qsize 7, out_qsize 0\n",
      "2018-03-07 19:05:38,445 : INFO : EPOCH 5 - PROGRESS: at 82.82% examples, 453211 words/s, in_qsize 7, out_qsize 0\n",
      "2018-03-07 19:05:39,453 : INFO : EPOCH 5 - PROGRESS: at 86.48% examples, 453542 words/s, in_qsize 7, out_qsize 0\n",
      "2018-03-07 19:05:40,455 : INFO : EPOCH 5 - PROGRESS: at 90.02% examples, 453669 words/s, in_qsize 7, out_qsize 0\n",
      "2018-03-07 19:05:41,469 : INFO : EPOCH 5 - PROGRESS: at 93.63% examples, 453555 words/s, in_qsize 7, out_qsize 0\n",
      "2018-03-07 19:05:42,489 : INFO : EPOCH 5 - PROGRESS: at 97.29% examples, 453650 words/s, in_qsize 7, out_qsize 0\n",
      "2018-03-07 19:05:43,216 : INFO : worker thread finished; awaiting finish of 3 more threads\n",
      "2018-03-07 19:05:43,228 : INFO : worker thread finished; awaiting finish of 2 more threads\n",
      "2018-03-07 19:05:43,250 : INFO : worker thread finished; awaiting finish of 1 more threads\n",
      "2018-03-07 19:05:43,259 : INFO : worker thread finished; awaiting finish of 0 more threads\n",
      "2018-03-07 19:05:43,260 : INFO : EPOCH - 5 : training on 17798082 raw words (12749665 effective words) took 28.1s, 453670 effective words/s\n",
      "2018-03-07 19:05:43,262 : INFO : training on a 88990410 raw words (63745279 effective words) took 150.3s, 424065 effective words/s\n",
      "2018-03-07 19:05:43,273 : INFO : precomputing L2-norms of word weight vectors\n",
      "2018-03-07 19:05:43,490 : INFO : saving Word2Vec object under 300features_40minwords_10context, separately None\n",
      "2018-03-07 19:05:43,492 : INFO : not storing attribute vectors_norm\n",
      "2018-03-07 19:05:43,493 : INFO : not storing attribute cum_table\n",
      "2018-03-07 19:05:44,449 : INFO : saved 300features_40minwords_10context\n"
     ]
    }
   ],
   "source": [
    "# Import the built-in logging module and configure it so that Word2Vec \n",
    "# creates nice output messages\n",
    "import logging\n",
    "logging.basicConfig(format='%(asctime)s : %(levelname)s : %(message)s',\\\n",
    "    level=logging.INFO)\n",
    "# Set parameters for the model\n",
    "num_features = 300 #Word vector dimensionality\n",
    "min_word_count = 40\n",
    "number_of_threads = 4 #Number of worker threads for parallel work\n",
    "context = 10 #Context window size\n",
    "downsampling = 1e-3 #Downsampling for frequent words\n",
    "from gensim.models import word2vec\n",
    "print('Training model')\n",
    "model = word2vec.Word2Vec(sentences, workers = number_of_threads, size = num_features, min_count = min_word_count,\\\n",
    "                         window = context, sample = downsampling)\n",
    "model.init_sims(replace = True)\n",
    "model_name = \"300features_40minwords_10context\"\n",
    "# we can get the model back using Word2Vec.load(model_name)\n",
    "model.save(model_name)"
   ]
  },
  {
   "cell_type": "markdown",
   "metadata": {},
   "source": [
    "# Exploring model results"
   ]
  },
  {
   "cell_type": "code",
   "execution_count": 21,
   "metadata": {},
   "outputs": [
    {
     "name": "stderr",
     "output_type": "stream",
     "text": [
      "/home/suryavamsi/anaconda3/lib/python3.6/site-packages/ipykernel_launcher.py:1: DeprecationWarning: Call to deprecated `doesnt_match` (Method will be removed in 4.0.0, use self.wv.doesnt_match() instead).\n",
      "  \"\"\"Entry point for launching an IPython kernel.\n"
     ]
    },
    {
     "data": {
      "text/plain": [
       "'kitchen'"
      ]
     },
     "execution_count": 21,
     "metadata": {},
     "output_type": "execute_result"
    }
   ],
   "source": [
    "model.doesnt_match('man woman child kitchen'.split())"
   ]
  },
  {
   "cell_type": "code",
   "execution_count": 22,
   "metadata": {},
   "outputs": [
    {
     "name": "stderr",
     "output_type": "stream",
     "text": [
      "/home/suryavamsi/anaconda3/lib/python3.6/site-packages/ipykernel_launcher.py:1: DeprecationWarning: Call to deprecated `doesnt_match` (Method will be removed in 4.0.0, use self.wv.doesnt_match() instead).\n",
      "  \"\"\"Entry point for launching an IPython kernel.\n"
     ]
    },
    {
     "data": {
      "text/plain": [
       "'berlin'"
      ]
     },
     "execution_count": 22,
     "metadata": {},
     "output_type": "execute_result"
    }
   ],
   "source": [
    "model.doesnt_match(\"france england germany berlin\".split())"
   ]
  },
  {
   "cell_type": "code",
   "execution_count": 23,
   "metadata": {},
   "outputs": [
    {
     "name": "stderr",
     "output_type": "stream",
     "text": [
      "/home/suryavamsi/anaconda3/lib/python3.6/site-packages/ipykernel_launcher.py:1: DeprecationWarning: Call to deprecated `doesnt_match` (Method will be removed in 4.0.0, use self.wv.doesnt_match() instead).\n",
      "  \"\"\"Entry point for launching an IPython kernel.\n"
     ]
    },
    {
     "data": {
      "text/plain": [
       "'paris'"
      ]
     },
     "execution_count": 23,
     "metadata": {},
     "output_type": "execute_result"
    }
   ],
   "source": [
    "model.doesnt_match(\"paris berlin london austria\".split())"
   ]
  },
  {
   "cell_type": "code",
   "execution_count": 24,
   "metadata": {},
   "outputs": [
    {
     "name": "stderr",
     "output_type": "stream",
     "text": [
      "/home/suryavamsi/anaconda3/lib/python3.6/site-packages/ipykernel_launcher.py:1: DeprecationWarning: Call to deprecated `most_similar` (Method will be removed in 4.0.0, use self.wv.most_similar() instead).\n",
      "  \"\"\"Entry point for launching an IPython kernel.\n"
     ]
    },
    {
     "data": {
      "text/plain": [
       "[('woman', 0.6253342032432556),\n",
       " ('lady', 0.5842984914779663),\n",
       " ('lad', 0.5700719952583313),\n",
       " ('monk', 0.5288840532302856),\n",
       " ('person', 0.5181305408477783),\n",
       " ('millionaire', 0.5127111077308655),\n",
       " ('guy', 0.5041940212249756),\n",
       " ('soldier', 0.5015482902526855),\n",
       " ('men', 0.4970259368419647),\n",
       " ('boy', 0.49194416403770447)]"
      ]
     },
     "execution_count": 24,
     "metadata": {},
     "output_type": "execute_result"
    }
   ],
   "source": [
    "model.most_similar(\"man\")"
   ]
  },
  {
   "cell_type": "code",
   "execution_count": 25,
   "metadata": {},
   "outputs": [
    {
     "name": "stderr",
     "output_type": "stream",
     "text": [
      "/home/suryavamsi/anaconda3/lib/python3.6/site-packages/ipykernel_launcher.py:1: DeprecationWarning: Call to deprecated `most_similar` (Method will be removed in 4.0.0, use self.wv.most_similar() instead).\n",
      "  \"\"\"Entry point for launching an IPython kernel.\n"
     ]
    },
    {
     "data": {
      "text/plain": [
       "[('princess', 0.6662442684173584),\n",
       " ('bride', 0.6353572010993958),\n",
       " ('latifah', 0.6039217710494995),\n",
       " ('belle', 0.588229775428772),\n",
       " ('victoria', 0.5867623090744019),\n",
       " ('prince', 0.5833441019058228),\n",
       " ('eva', 0.5710582733154297),\n",
       " ('stepmother', 0.568495512008667),\n",
       " ('goddess', 0.5684189200401306),\n",
       " ('maria', 0.553290605545044)]"
      ]
     },
     "execution_count": 25,
     "metadata": {},
     "output_type": "execute_result"
    }
   ],
   "source": [
    "model.most_similar(\"queen\")"
   ]
  },
  {
   "cell_type": "code",
   "execution_count": 29,
   "metadata": {},
   "outputs": [
    {
     "name": "stderr",
     "output_type": "stream",
     "text": [
      "2018-03-07 19:09:04,027 : INFO : loading Word2Vec object from 300features_40minwords_10context\n",
      "2018-03-07 19:09:04,325 : INFO : loading wv recursively from 300features_40minwords_10context.wv.* with mmap=None\n",
      "2018-03-07 19:09:04,325 : INFO : setting ignored attribute vectors_norm to None\n",
      "2018-03-07 19:09:04,326 : INFO : loading vocabulary recursively from 300features_40minwords_10context.vocabulary.* with mmap=None\n",
      "2018-03-07 19:09:04,327 : INFO : loading trainables recursively from 300features_40minwords_10context.trainables.* with mmap=None\n",
      "2018-03-07 19:09:04,328 : INFO : setting ignored attribute cum_table to None\n",
      "2018-03-07 19:09:04,329 : INFO : loaded 300features_40minwords_10context\n",
      "/home/suryavamsi/anaconda3/lib/python3.6/site-packages/ipykernel_launcher.py:4: DeprecationWarning: Call to deprecated `syn0` (Attribute will be removed in 4.0.0, use self.wv.vectors instead).\n",
      "  after removing the cwd from sys.path.\n"
     ]
    },
    {
     "data": {
      "text/plain": [
       "numpy.ndarray"
      ]
     },
     "execution_count": 29,
     "metadata": {},
     "output_type": "execute_result"
    }
   ],
   "source": [
    "# we see that the model stores features in a numpy array\n",
    "from gensim.models import Word2Vec\n",
    "model = Word2Vec.load(\"300features_40minwords_10context\")\n",
    "type(model.wv.syn0)"
   ]
  },
  {
   "cell_type": "code",
   "execution_count": 30,
   "metadata": {},
   "outputs": [
    {
     "name": "stderr",
     "output_type": "stream",
     "text": [
      "/home/suryavamsi/anaconda3/lib/python3.6/site-packages/ipykernel_launcher.py:1: DeprecationWarning: Call to deprecated `syn0` (Attribute will be removed in 4.0.0, use self.wv.vectors instead).\n",
      "  \"\"\"Entry point for launching an IPython kernel.\n"
     ]
    },
    {
     "data": {
      "text/plain": [
       "(16490, 300)"
      ]
     },
     "execution_count": 30,
     "metadata": {},
     "output_type": "execute_result"
    }
   ],
   "source": [
    "model.wv.syn0.shape"
   ]
  },
  {
   "cell_type": "code",
   "execution_count": 31,
   "metadata": {},
   "outputs": [
    {
     "name": "stderr",
     "output_type": "stream",
     "text": [
      "/home/suryavamsi/anaconda3/lib/python3.6/site-packages/ipykernel_launcher.py:1: DeprecationWarning: Call to deprecated `__getitem__` (Method will be removed in 4.0.0, use self.wv.__getitem__() instead).\n",
      "  \"\"\"Entry point for launching an IPython kernel.\n"
     ]
    },
    {
     "data": {
      "text/plain": [
       "array([ -7.31073618e-02,   7.67937154e-02,   2.00495906e-02,\n",
       "         2.85043381e-02,   2.04815227e-03,   8.77374262e-02,\n",
       "         5.22175319e-02,  -5.93607202e-02,  -2.38773376e-02,\n",
       "        -5.80423400e-02,  -2.59536970e-02,  -4.80402857e-02,\n",
       "        -1.90654583e-02,  -7.91392848e-02,   5.60260043e-02,\n",
       "         1.20487504e-01,  -2.16697250e-03,   1.47714736e-02,\n",
       "         3.77215398e-03,  -3.41691859e-02,   2.87018679e-02,\n",
       "         2.88788462e-03,  -3.78345661e-02,  -5.32338284e-02,\n",
       "        -4.44131158e-02,  -4.43508141e-02,   5.40554821e-02,\n",
       "         2.67236158e-02,   2.93935593e-02,   6.18390851e-02,\n",
       "        -1.16750300e-02,   6.74403384e-02,  -5.53049706e-02,\n",
       "        -1.76223684e-02,   6.57723695e-02,  -6.39973581e-02,\n",
       "        -5.62456697e-02,  -1.91803172e-03,   6.42104447e-02,\n",
       "         1.35658104e-02,  -1.29507743e-02,   1.64797475e-05,\n",
       "         1.85930654e-02,   1.71453804e-01,   4.88942415e-02,\n",
       "        -6.65188059e-02,  -1.05797805e-01,  -1.10848323e-01,\n",
       "         7.26404041e-02,  -5.17957695e-02,  -3.73259000e-02,\n",
       "        -3.25081963e-03,  -6.71853917e-03,  -1.38967961e-01,\n",
       "         3.24871652e-02,   7.80926924e-03,   1.30845189e-01,\n",
       "        -9.58780125e-02,   1.63893644e-02,  -4.70759384e-02,\n",
       "         8.18862617e-02,  -3.55942920e-03,   1.71898175e-02,\n",
       "         8.79700482e-02,   8.60328153e-02,   8.45251884e-03,\n",
       "         3.42038497e-02,   6.06822036e-03,  -9.04979371e-03,\n",
       "        -1.25893345e-02,  -1.81611747e-01,   8.48823809e-04,\n",
       "         2.41314303e-02,  -5.79877896e-03,  -6.99142832e-03,\n",
       "        -3.83414305e-03,  -9.11619812e-02,  -9.24174301e-03,\n",
       "         7.62669072e-02,  -1.04509003e-01,  -5.80569245e-02,\n",
       "         7.87335336e-02,  -6.84646666e-02,  -6.95737377e-02,\n",
       "         5.21397702e-02,  -3.29697989e-02,   3.46713625e-02,\n",
       "         1.62369877e-01,  -2.81721521e-02,   1.97981275e-03,\n",
       "         6.81811348e-02,   7.59750828e-02,   8.43029842e-02,\n",
       "        -9.94390398e-02,  -4.20665182e-03,   1.54711613e-02,\n",
       "         3.33137363e-02,   5.91922887e-02,  -3.07918154e-03,\n",
       "         3.46812606e-02,  -1.90854967e-02,   1.20910062e-02,\n",
       "         1.08128157e-03,   3.15226661e-03,  -2.75599901e-02,\n",
       "        -1.76141039e-02,   5.77948838e-02,   1.98118165e-02,\n",
       "        -9.53511670e-02,   7.01553598e-02,   1.43659830e-01,\n",
       "        -6.09748028e-02,  -2.23816223e-02,  -3.43483337e-03,\n",
       "         6.62717372e-02,   2.73785703e-02,   4.85952292e-03,\n",
       "        -1.38389394e-02,   7.23718852e-02,  -2.36765184e-02,\n",
       "        -7.14439228e-02,   5.10731712e-02,   1.12518501e-02,\n",
       "        -5.03713712e-02,  -1.22640625e-01,  -2.71518379e-02,\n",
       "         3.92654687e-02,  -3.13100256e-02,  -8.10126737e-02,\n",
       "         1.01697236e-01,   6.60180151e-02,  -6.01931550e-02,\n",
       "         9.21688899e-02,   5.36935329e-02,   1.54792853e-02,\n",
       "        -6.40610754e-02,  -5.28128110e-02,   8.20152238e-02,\n",
       "         4.91233990e-02,   6.02259673e-02,   3.32385674e-02,\n",
       "         8.96108896e-02,  -5.81931174e-02,   2.27513965e-02,\n",
       "        -1.23581113e-02,  -5.49405143e-02,  -4.95352373e-02,\n",
       "         4.73442441e-03,  -6.12355210e-02,   6.49781227e-02,\n",
       "        -5.99481054e-02,   2.53897216e-02,   2.79260986e-03,\n",
       "        -2.29456462e-03,  -2.95705125e-02,   8.68132487e-02,\n",
       "         2.96127144e-02,  -2.69983318e-02,  -7.02330992e-02,\n",
       "         4.42818478e-02,   1.68104209e-02,   6.34500980e-02,\n",
       "        -1.01563372e-02,   7.47399870e-03,  -2.95219924e-02,\n",
       "        -3.59866507e-02,   1.09634884e-01,  -6.68410584e-02,\n",
       "        -1.26598105e-01,   5.39308451e-02,   5.97709604e-02,\n",
       "         1.80146202e-01,  -1.88759323e-02,   4.46655564e-02,\n",
       "         1.19334850e-02,  -6.45379052e-02,  -6.98913336e-02,\n",
       "        -3.33730876e-02,  -5.54263070e-02,  -3.44956573e-03,\n",
       "        -5.11018280e-03,  -9.02653411e-02,  -9.54561606e-02,\n",
       "        -8.85118730e-03,  -5.13173304e-02,   9.25105438e-02,\n",
       "         1.37161035e-02,  -4.57073040e-02,   2.66035199e-02,\n",
       "        -5.19647934e-02,  -1.54592376e-02,   2.72201747e-02,\n",
       "        -2.29897406e-02,  -1.41580254e-01,   5.80066741e-02,\n",
       "         1.44585110e-02,  -1.27852373e-02,   6.23117387e-03,\n",
       "        -2.59455200e-02,  -2.06736196e-02,   6.46165535e-02,\n",
       "         2.08171885e-02,  -2.41168756e-02,  -2.87356861e-02,\n",
       "        -3.14676352e-02,  -1.40997907e-02,   1.54737815e-01,\n",
       "        -7.01323478e-03,  -1.76500648e-01,   4.52144770e-04,\n",
       "        -2.81470940e-02,  -2.53147986e-02,   2.04282789e-03,\n",
       "        -1.55717023e-02,   3.44493948e-02,  -6.12052856e-03,\n",
       "        -4.34627049e-02,   1.52135231e-02,   8.51393417e-02,\n",
       "         4.20873314e-02,   1.24689983e-02,  -3.93081754e-02,\n",
       "         9.06999335e-02,  -3.44698280e-02,  -3.91524658e-02,\n",
       "        -2.75925864e-02,   3.08977067e-02,  -9.35839713e-02,\n",
       "         6.11707754e-03,   2.37069931e-03,   7.51227587e-02,\n",
       "         8.33416432e-02,   1.45479944e-02,   2.31505688e-02,\n",
       "         6.81690779e-03,   3.84674557e-02,  -1.10734440e-01,\n",
       "        -1.66883357e-02,  -1.29010910e-02,   1.27933817e-02,\n",
       "        -6.97205663e-02,   6.57929108e-02,  -2.94891633e-02,\n",
       "         3.31342369e-02,  -3.49290818e-02,   2.20615789e-02,\n",
       "        -5.86140789e-02,  -1.51983332e-02,   1.09450869e-01,\n",
       "        -1.00506753e-01,   3.05262506e-02,   5.80481887e-02,\n",
       "         1.63065121e-02,  -6.54611140e-02,   2.09662132e-02,\n",
       "         3.42810489e-02,  -4.22065035e-02,   1.37305874e-02,\n",
       "        -8.08974262e-04,   7.87188709e-02,   2.79250694e-03,\n",
       "         3.06909345e-03,  -1.84258819e-02,  -1.40266102e-05,\n",
       "        -3.79329175e-02,  -4.32944437e-03,  -3.43249328e-02,\n",
       "         4.23392579e-02,  -2.77379956e-02,   9.69160497e-02,\n",
       "         6.35017082e-02,  -1.45303058e-02,  -6.02995232e-02,\n",
       "        -8.26619118e-02,  -2.20421841e-03,   5.95614314e-02,\n",
       "         7.21524432e-02,   3.34294699e-02,  -3.94882001e-02,\n",
       "         8.67559016e-02,   5.96568640e-03,   1.68597652e-03,\n",
       "         1.97684253e-03,   9.64085013e-03,   7.46528804e-02,\n",
       "        -5.57728820e-02,   4.17366922e-02,  -1.17676018e-03,\n",
       "         3.70733328e-02,   3.72966789e-02,  -4.81139831e-02,\n",
       "        -3.27235796e-02,  -2.11307183e-02,  -1.34106129e-02,\n",
       "        -6.52994961e-02,  -3.94948274e-02,  -9.03767813e-03,\n",
       "        -5.67473732e-02,  -5.36372699e-02,  -9.25942585e-02], dtype=float32)"
      ]
     },
     "execution_count": 31,
     "metadata": {},
     "output_type": "execute_result"
    }
   ],
   "source": [
    "model['flower']"
   ]
  },
  {
   "cell_type": "code",
   "execution_count": 49,
   "metadata": {},
   "outputs": [
    {
     "name": "stderr",
     "output_type": "stream",
     "text": [
      "/home/suryavamsi/anaconda3/lib/python3.6/site-packages/ipykernel_launcher.py:1: DeprecationWarning: Call to deprecated `most_similar` (Method will be removed in 4.0.0, use self.wv.most_similar() instead).\n",
      "  \"\"\"Entry point for launching an IPython kernel.\n"
     ]
    },
    {
     "data": {
      "text/plain": [
       "[('religious', 0.7462047338485718),\n",
       " ('islam', 0.743807315826416),\n",
       " ('politics', 0.729131817817688),\n",
       " ('homosexuality', 0.72416090965271),\n",
       " ('christianity', 0.7199966311454773),\n",
       " ('racism', 0.7102028727531433),\n",
       " ('beliefs', 0.7069824934005737),\n",
       " ('ideology', 0.6960127353668213),\n",
       " ('bigotry', 0.6931477785110474),\n",
       " ('islamic', 0.6911873817443848)]"
      ]
     },
     "execution_count": 49,
     "metadata": {},
     "output_type": "execute_result"
    }
   ],
   "source": [
    "model.most_similar('religion')"
   ]
  },
  {
   "cell_type": "markdown",
   "metadata": {},
   "source": [
    "# sentiment analysis using clustering"
   ]
  },
  {
   "cell_type": "code",
   "execution_count": 50,
   "metadata": {
    "collapsed": true
   },
   "outputs": [],
   "source": [
    "from sklearn.cluster import KMeans\n",
    "import time"
   ]
  },
  {
   "cell_type": "code",
   "execution_count": 55,
   "metadata": {},
   "outputs": [
    {
     "name": "stderr",
     "output_type": "stream",
     "text": [
      "/home/suryavamsi/anaconda3/lib/python3.6/site-packages/ipykernel_launcher.py:4: DeprecationWarning: Call to deprecated `syn0` (Attribute will be removed in 4.0.0, use self.wv.vectors instead).\n",
      "  after removing the cwd from sys.path.\n"
     ]
    },
    {
     "name": "stdout",
     "output_type": "stream",
     "text": [
      "Time taken for K Means clustering:  500.81960558891296 seconds.\n"
     ]
    }
   ],
   "source": [
    "start = time.time()\n",
    "# Set \"k\" (num_clusters) to be 1/5th of the vocabulary size, or an\n",
    "# average of 5 words per cluster\n",
    "word_vectors = model.wv.syn0\n",
    "num_clusters = word_vectors.shape[0] // 5\n",
    "\n",
    "# Initalize a k-means object and use it to extract centroids\n",
    "kmeans_clustering = KMeans( n_clusters = num_clusters )\n",
    "idx = kmeans_clustering.fit_predict( word_vectors )\n",
    "\n",
    "# Get the end time and print how long the process took\n",
    "end = time.time()\n",
    "elapsed = end - start\n",
    "print(\"Time taken for K Means clustering: \", elapsed, \"seconds.\")"
   ]
  },
  {
   "cell_type": "code",
   "execution_count": 57,
   "metadata": {},
   "outputs": [],
   "source": [
    "# The cluster assignmet for each variable now stored in idx\n",
    "# Vocabulary of our original Word2Vec model stored in model.index2word\n",
    "# Create a Word / Index dictionary, mapping each vocabulary word to\n",
    "# a cluster number                                                                                            \n",
    "word_centroid_map = dict(zip( model.wv.index2word, idx ))"
   ]
  },
  {
   "cell_type": "code",
   "execution_count": 64,
   "metadata": {},
   "outputs": [
    {
     "name": "stdout",
     "output_type": "stream",
     "text": [
      "\n",
      "Cluster 0\n",
      "['hush', 'blanche', 'foxy']\n",
      "\n",
      "Cluster 1\n",
      "['baggage']\n",
      "\n",
      "Cluster 2\n",
      "['beverly', 'wills', 'yikes', 'det', 'mat', 'shand']\n",
      "\n",
      "Cluster 3\n",
      "['see', 'follow', 'hold', 'catch', 'pass']\n",
      "\n",
      "Cluster 4\n",
      "['mission', 'shield', 'controls', 'vessel', 'bases', 'debris', 'properties']\n",
      "\n",
      "Cluster 5\n",
      "['required']\n",
      "\n",
      "Cluster 6\n",
      "['creative', 'stylish', 'imaginative', 'elaborate', 'innovative', 'inventive', 'ingenious', 'offbeat']\n",
      "\n",
      "Cluster 7\n",
      "['dead', 'grave', 'buried', 'paradise', 'tomb', 'burial', 'raider']\n",
      "\n",
      "Cluster 8\n",
      "['co', 'shaw', 'sherman', 'kaufman', 'columbus', 'gamble', 'matheson', 'mankiewicz', 'olen', 'flaherty']\n",
      "\n",
      "Cluster 9\n",
      "['surfing', 'flipping', 'browsing']\n"
     ]
    }
   ],
   "source": [
    "# For the first 10 clusters\n",
    "for cluster in range(0,10):\n",
    "    #\n",
    "    # Print the cluster number  \n",
    "    print(\"\\nCluster %d\" % cluster)\n",
    "    #\n",
    "    # Find all of the words for that cluster number, and print them out\n",
    "    words = []\n",
    "    for i in range(0,len(word_centroid_map.values())):\n",
    "        if( list(word_centroid_map.values())[i] == cluster ):\n",
    "            words.append(list(word_centroid_map.keys())[i])\n",
    "    print(words)"
   ]
  },
  {
   "cell_type": "code",
   "execution_count": 65,
   "metadata": {},
   "outputs": [
    {
     "data": {
      "text/plain": [
       "'\\nThe function above will give us a numpy array for each review,\\neach with a number of features equal to the number of clusters.\\nFinally, we create bags of centroids for our training and test set, then train a random forest and extract results:\\n'"
      ]
     },
     "execution_count": 65,
     "metadata": {},
     "output_type": "execute_result"
    }
   ],
   "source": [
    "# we define a function to convert reviews into bags-of-centroids.\n",
    "# This works just like Bag of Words but uses semantically related clusters instead of individual words:\n",
    "def create_bag_of_centroids( wordlist, word_centroid_map ):\n",
    "    #\n",
    "    # The number of clusters is equal to the highest cluster index\n",
    "    # in the word / centroid map\n",
    "    num_centroids = max( word_centroid_map.values() ) + 1\n",
    "    #\n",
    "    # Pre-allocate the bag of centroids vector (for speed)\n",
    "    bag_of_centroids = np.zeros( num_centroids, dtype=\"float32\" )\n",
    "    #\n",
    "    # Loop over the words in the review. If the word is in the vocabulary,\n",
    "    # find which cluster it belongs to, and increment that cluster count \n",
    "    # by one\n",
    "    for word in wordlist:\n",
    "        if word in word_centroid_map:\n",
    "            index = word_centroid_map[word]\n",
    "            bag_of_centroids[index] += 1\n",
    "    #\n",
    "    # Return the \"bag of centroids\"\n",
    "    return bag_of_centroids\n",
    "'''\n",
    "The function above will give us a numpy array for each review,\n",
    "each with a number of features equal to the number of clusters.\n",
    "Finally, we create bags of centroids for our training and test set, then train a random forest and extract results:\n",
    "'''"
   ]
  },
  {
   "cell_type": "code",
   "execution_count": 80,
   "metadata": {},
   "outputs": [
    {
     "name": "stderr",
     "output_type": "stream",
     "text": [
      "/home/suryavamsi/anaconda3/lib/python3.6/site-packages/bs4/__init__.py:181: UserWarning: No parser was explicitly specified, so I'm using the best available HTML parser for this system (\"lxml\"). This usually isn't a problem, but if you run this code on another system, or in a different virtual environment, it may use a different parser and behave differently.\n",
      "\n",
      "The code that caused this warning is on line 193 of the file /home/suryavamsi/anaconda3/lib/python3.6/runpy.py. To get rid of this warning, change code that looks like this:\n",
      "\n",
      " BeautifulSoup(YOUR_MARKUP})\n",
      "\n",
      "to this:\n",
      "\n",
      " BeautifulSoup(YOUR_MARKUP, \"lxml\")\n",
      "\n",
      "  markup_type=markup_type))\n"
     ]
    }
   ],
   "source": [
    "clean_train_reviews = []\n",
    "for review in train['review']:\n",
    "    clean_train_reviews.append(review_to_wordlist(review, remove_stopwords = True))\n",
    "    \n",
    "clean_test_reviews = []\n",
    "\n",
    "for review in test['review']:\n",
    "    clean_test_reviews.append(review_to_wordlist(review, remove_stopwords = True))"
   ]
  },
  {
   "cell_type": "code",
   "execution_count": 81,
   "metadata": {},
   "outputs": [],
   "source": [
    "# Pre-allocate an array for the training set bags of centroids (for speed)\n",
    "train_centroids = np.zeros( (train[\"review\"].size, num_clusters), \\\n",
    "    dtype=\"float32\" )\n",
    "\n",
    "# Transform the training set reviews into bags of centroids\n",
    "counter = 0\n",
    "for review in clean_train_reviews:\n",
    "    train_centroids[counter] = create_bag_of_centroids( review, \\\n",
    "        word_centroid_map )\n",
    "    counter += 1\n",
    "\n",
    "# Repeat for test reviews \n",
    "test_centroids = np.zeros(( test[\"review\"].size, num_clusters), \\\n",
    "    dtype=\"float32\" )\n",
    "\n",
    "counter = 0\n",
    "for review in clean_test_reviews:\n",
    "    test_centroids[counter] = create_bag_of_centroids( review, \\\n",
    "        word_centroid_map )\n",
    "    counter += 1"
   ]
  },
  {
   "cell_type": "code",
   "execution_count": 82,
   "metadata": {},
   "outputs": [
    {
     "name": "stdout",
     "output_type": "stream",
     "text": [
      "Fitting a random forest to labeled training data...\n"
     ]
    }
   ],
   "source": [
    "# Fit a random forest and extract predictions \n",
    "from sklearn.ensemble import RandomForestClassifier\n",
    "forest = RandomForestClassifier(n_estimators = 100)\n",
    "\n",
    "# Fitting the forest may take a few minutes\n",
    "print(\"Fitting a random forest to labeled training data...\")\n",
    "forest = forest.fit(train_centroids,train[\"sentiment\"])\n",
    "result = forest.predict(test_centroids)\n",
    "\n",
    "# Write the test results \n",
    "output = pd.DataFrame(data={\"id\":test[\"id\"], \"sentiment\":result})\n",
    "output.to_csv( \"BagOfCentroids.csv\", index=False, quoting=3 )"
   ]
  },
  {
   "cell_type": "code",
   "execution_count": null,
   "metadata": {
    "collapsed": true
   },
   "outputs": [],
   "source": [
    "# Got 83.82 score in Kaggle"
   ]
  }
 ],
 "metadata": {
  "kernelspec": {
   "display_name": "Python 3",
   "language": "python",
   "name": "python3"
  },
  "language_info": {
   "codemirror_mode": {
    "name": "ipython",
    "version": 3
   },
   "file_extension": ".py",
   "mimetype": "text/x-python",
   "name": "python",
   "nbconvert_exporter": "python",
   "pygments_lexer": "ipython3",
   "version": "3.6.3"
  }
 },
 "nbformat": 4,
 "nbformat_minor": 2
}
